{
  "cells": [
    {
      "cell_type": "markdown",
      "source": [
        "#Airline Passenger data "
      ],
      "metadata": {
        "id": "qAQxaMINSQOc"
      }
    },
    {
      "cell_type": "code",
      "execution_count": 94,
      "metadata": {
        "id": "kXPob7bbn_DY"
      },
      "outputs": [],
      "source": [
        "import pandas as pd\n",
        "import numpy as np\n",
        "import matplotlib.pyplot as plt\n",
        "from datetime import datetime,timedelta\n",
        "from statsmodels.tsa.statespace.sarimax import SARIMAX"
      ]
    },
    {
      "cell_type": "code",
      "execution_count": 47,
      "metadata": {
        "id": "sCAuyZghoJLU"
      },
      "outputs": [],
      "source": [
        "df = pd.read_csv('/content/international-airline-passengers.csv')"
      ]
    },
    {
      "cell_type": "code",
      "execution_count": 48,
      "metadata": {
        "colab": {
          "base_uri": "https://localhost:8080/",
          "height": 206
        },
        "id": "2K7ZvpinoJI1",
        "outputId": "7b5a69b3-6f0f-4190-c39e-4983a9ded5b2"
      },
      "outputs": [
        {
          "output_type": "execute_result",
          "data": {
            "text/html": [
              "\n",
              "  <div id=\"df-aca1c265-fd65-426a-b700-7186c960df19\">\n",
              "    <div class=\"colab-df-container\">\n",
              "      <div>\n",
              "<style scoped>\n",
              "    .dataframe tbody tr th:only-of-type {\n",
              "        vertical-align: middle;\n",
              "    }\n",
              "\n",
              "    .dataframe tbody tr th {\n",
              "        vertical-align: top;\n",
              "    }\n",
              "\n",
              "    .dataframe thead th {\n",
              "        text-align: right;\n",
              "    }\n",
              "</style>\n",
              "<table border=\"1\" class=\"dataframe\">\n",
              "  <thead>\n",
              "    <tr style=\"text-align: right;\">\n",
              "      <th></th>\n",
              "      <th>Month</th>\n",
              "      <th>International airline passengers: monthly totals in thousands. Jan 49 ? Dec 60</th>\n",
              "    </tr>\n",
              "  </thead>\n",
              "  <tbody>\n",
              "    <tr>\n",
              "      <th>0</th>\n",
              "      <td>1949-01</td>\n",
              "      <td>112.0</td>\n",
              "    </tr>\n",
              "    <tr>\n",
              "      <th>1</th>\n",
              "      <td>1949-02</td>\n",
              "      <td>118.0</td>\n",
              "    </tr>\n",
              "    <tr>\n",
              "      <th>2</th>\n",
              "      <td>1949-03</td>\n",
              "      <td>132.0</td>\n",
              "    </tr>\n",
              "    <tr>\n",
              "      <th>3</th>\n",
              "      <td>1949-04</td>\n",
              "      <td>129.0</td>\n",
              "    </tr>\n",
              "    <tr>\n",
              "      <th>4</th>\n",
              "      <td>1949-05</td>\n",
              "      <td>121.0</td>\n",
              "    </tr>\n",
              "  </tbody>\n",
              "</table>\n",
              "</div>\n",
              "      <button class=\"colab-df-convert\" onclick=\"convertToInteractive('df-aca1c265-fd65-426a-b700-7186c960df19')\"\n",
              "              title=\"Convert this dataframe to an interactive table.\"\n",
              "              style=\"display:none;\">\n",
              "        \n",
              "  <svg xmlns=\"http://www.w3.org/2000/svg\" height=\"24px\"viewBox=\"0 0 24 24\"\n",
              "       width=\"24px\">\n",
              "    <path d=\"M0 0h24v24H0V0z\" fill=\"none\"/>\n",
              "    <path d=\"M18.56 5.44l.94 2.06.94-2.06 2.06-.94-2.06-.94-.94-2.06-.94 2.06-2.06.94zm-11 1L8.5 8.5l.94-2.06 2.06-.94-2.06-.94L8.5 2.5l-.94 2.06-2.06.94zm10 10l.94 2.06.94-2.06 2.06-.94-2.06-.94-.94-2.06-.94 2.06-2.06.94z\"/><path d=\"M17.41 7.96l-1.37-1.37c-.4-.4-.92-.59-1.43-.59-.52 0-1.04.2-1.43.59L10.3 9.45l-7.72 7.72c-.78.78-.78 2.05 0 2.83L4 21.41c.39.39.9.59 1.41.59.51 0 1.02-.2 1.41-.59l7.78-7.78 2.81-2.81c.8-.78.8-2.07 0-2.86zM5.41 20L4 18.59l7.72-7.72 1.47 1.35L5.41 20z\"/>\n",
              "  </svg>\n",
              "      </button>\n",
              "      \n",
              "  <style>\n",
              "    .colab-df-container {\n",
              "      display:flex;\n",
              "      flex-wrap:wrap;\n",
              "      gap: 12px;\n",
              "    }\n",
              "\n",
              "    .colab-df-convert {\n",
              "      background-color: #E8F0FE;\n",
              "      border: none;\n",
              "      border-radius: 50%;\n",
              "      cursor: pointer;\n",
              "      display: none;\n",
              "      fill: #1967D2;\n",
              "      height: 32px;\n",
              "      padding: 0 0 0 0;\n",
              "      width: 32px;\n",
              "    }\n",
              "\n",
              "    .colab-df-convert:hover {\n",
              "      background-color: #E2EBFA;\n",
              "      box-shadow: 0px 1px 2px rgba(60, 64, 67, 0.3), 0px 1px 3px 1px rgba(60, 64, 67, 0.15);\n",
              "      fill: #174EA6;\n",
              "    }\n",
              "\n",
              "    [theme=dark] .colab-df-convert {\n",
              "      background-color: #3B4455;\n",
              "      fill: #D2E3FC;\n",
              "    }\n",
              "\n",
              "    [theme=dark] .colab-df-convert:hover {\n",
              "      background-color: #434B5C;\n",
              "      box-shadow: 0px 1px 3px 1px rgba(0, 0, 0, 0.15);\n",
              "      filter: drop-shadow(0px 1px 2px rgba(0, 0, 0, 0.3));\n",
              "      fill: #FFFFFF;\n",
              "    }\n",
              "  </style>\n",
              "\n",
              "      <script>\n",
              "        const buttonEl =\n",
              "          document.querySelector('#df-aca1c265-fd65-426a-b700-7186c960df19 button.colab-df-convert');\n",
              "        buttonEl.style.display =\n",
              "          google.colab.kernel.accessAllowed ? 'block' : 'none';\n",
              "\n",
              "        async function convertToInteractive(key) {\n",
              "          const element = document.querySelector('#df-aca1c265-fd65-426a-b700-7186c960df19');\n",
              "          const dataTable =\n",
              "            await google.colab.kernel.invokeFunction('convertToInteractive',\n",
              "                                                     [key], {});\n",
              "          if (!dataTable) return;\n",
              "\n",
              "          const docLinkHtml = 'Like what you see? Visit the ' +\n",
              "            '<a target=\"_blank\" href=https://colab.research.google.com/notebooks/data_table.ipynb>data table notebook</a>'\n",
              "            + ' to learn more about interactive tables.';\n",
              "          element.innerHTML = '';\n",
              "          dataTable['output_type'] = 'display_data';\n",
              "          await google.colab.output.renderOutput(dataTable, element);\n",
              "          const docLink = document.createElement('div');\n",
              "          docLink.innerHTML = docLinkHtml;\n",
              "          element.appendChild(docLink);\n",
              "        }\n",
              "      </script>\n",
              "    </div>\n",
              "  </div>\n",
              "  "
            ],
            "text/plain": [
              "     Month  \\\n",
              "0  1949-01   \n",
              "1  1949-02   \n",
              "2  1949-03   \n",
              "3  1949-04   \n",
              "4  1949-05   \n",
              "\n",
              "   International airline passengers: monthly totals in thousands. Jan 49 ? Dec 60  \n",
              "0                                              112.0                               \n",
              "1                                              118.0                               \n",
              "2                                              132.0                               \n",
              "3                                              129.0                               \n",
              "4                                              121.0                               "
            ]
          },
          "metadata": {},
          "execution_count": 48
        }
      ],
      "source": [
        "df.head()"
      ]
    },
    {
      "cell_type": "code",
      "execution_count": 49,
      "metadata": {
        "id": "nUGEKfY3oJGE"
      },
      "outputs": [],
      "source": [
        "df.rename(columns={'International airline passengers: monthly totals in thousands. Jan 49 ? Dec 60':'Passenger Travel'},inplace = True)"
      ]
    },
    {
      "cell_type": "code",
      "source": [
        "df.info()"
      ],
      "metadata": {
        "colab": {
          "base_uri": "https://localhost:8080/"
        },
        "id": "Umg1RvrMR_kV",
        "outputId": "66a79102-c191-4968-84ae-4ef927e66e69"
      },
      "execution_count": 50,
      "outputs": [
        {
          "output_type": "stream",
          "name": "stdout",
          "text": [
            "<class 'pandas.core.frame.DataFrame'>\n",
            "RangeIndex: 145 entries, 0 to 144\n",
            "Data columns (total 2 columns):\n",
            " #   Column            Non-Null Count  Dtype  \n",
            "---  ------            --------------  -----  \n",
            " 0   Month             145 non-null    object \n",
            " 1   Passenger Travel  144 non-null    float64\n",
            "dtypes: float64(1), object(1)\n",
            "memory usage: 2.4+ KB\n"
          ]
        }
      ]
    },
    {
      "cell_type": "code",
      "source": [
        "df.isnull().sum()"
      ],
      "metadata": {
        "colab": {
          "base_uri": "https://localhost:8080/"
        },
        "id": "oBhUOyzoR_iN",
        "outputId": "f465929e-a620-4206-c0cc-0072f21a6859"
      },
      "execution_count": 51,
      "outputs": [
        {
          "output_type": "execute_result",
          "data": {
            "text/plain": [
              "Month               0\n",
              "Passenger Travel    1\n",
              "dtype: int64"
            ]
          },
          "metadata": {},
          "execution_count": 51
        }
      ]
    },
    {
      "cell_type": "code",
      "source": [
        "df.dropna(axis = 0,inplace=True)"
      ],
      "metadata": {
        "id": "vb64uhB3R_gH"
      },
      "execution_count": 52,
      "outputs": []
    },
    {
      "cell_type": "code",
      "source": [
        "df.isnull().sum()"
      ],
      "metadata": {
        "colab": {
          "base_uri": "https://localhost:8080/"
        },
        "id": "-siDJXGwR_dv",
        "outputId": "0687787c-9174-452d-931a-08d34b2fc6a7"
      },
      "execution_count": 53,
      "outputs": [
        {
          "output_type": "execute_result",
          "data": {
            "text/plain": [
              "Month               0\n",
              "Passenger Travel    0\n",
              "dtype: int64"
            ]
          },
          "metadata": {},
          "execution_count": 53
        }
      ]
    },
    {
      "cell_type": "code",
      "source": [
        "df.tail()"
      ],
      "metadata": {
        "colab": {
          "base_uri": "https://localhost:8080/",
          "height": 206
        },
        "id": "_fOixw3bR_bl",
        "outputId": "8cc5580b-f6f0-4054-b513-16097e6dacb2"
      },
      "execution_count": 54,
      "outputs": [
        {
          "output_type": "execute_result",
          "data": {
            "text/html": [
              "\n",
              "  <div id=\"df-9739ccb0-393f-4edf-842d-8d08aef36d71\">\n",
              "    <div class=\"colab-df-container\">\n",
              "      <div>\n",
              "<style scoped>\n",
              "    .dataframe tbody tr th:only-of-type {\n",
              "        vertical-align: middle;\n",
              "    }\n",
              "\n",
              "    .dataframe tbody tr th {\n",
              "        vertical-align: top;\n",
              "    }\n",
              "\n",
              "    .dataframe thead th {\n",
              "        text-align: right;\n",
              "    }\n",
              "</style>\n",
              "<table border=\"1\" class=\"dataframe\">\n",
              "  <thead>\n",
              "    <tr style=\"text-align: right;\">\n",
              "      <th></th>\n",
              "      <th>Month</th>\n",
              "      <th>Passenger Travel</th>\n",
              "    </tr>\n",
              "  </thead>\n",
              "  <tbody>\n",
              "    <tr>\n",
              "      <th>139</th>\n",
              "      <td>1960-08</td>\n",
              "      <td>606.0</td>\n",
              "    </tr>\n",
              "    <tr>\n",
              "      <th>140</th>\n",
              "      <td>1960-09</td>\n",
              "      <td>508.0</td>\n",
              "    </tr>\n",
              "    <tr>\n",
              "      <th>141</th>\n",
              "      <td>1960-10</td>\n",
              "      <td>461.0</td>\n",
              "    </tr>\n",
              "    <tr>\n",
              "      <th>142</th>\n",
              "      <td>1960-11</td>\n",
              "      <td>390.0</td>\n",
              "    </tr>\n",
              "    <tr>\n",
              "      <th>143</th>\n",
              "      <td>1960-12</td>\n",
              "      <td>432.0</td>\n",
              "    </tr>\n",
              "  </tbody>\n",
              "</table>\n",
              "</div>\n",
              "      <button class=\"colab-df-convert\" onclick=\"convertToInteractive('df-9739ccb0-393f-4edf-842d-8d08aef36d71')\"\n",
              "              title=\"Convert this dataframe to an interactive table.\"\n",
              "              style=\"display:none;\">\n",
              "        \n",
              "  <svg xmlns=\"http://www.w3.org/2000/svg\" height=\"24px\"viewBox=\"0 0 24 24\"\n",
              "       width=\"24px\">\n",
              "    <path d=\"M0 0h24v24H0V0z\" fill=\"none\"/>\n",
              "    <path d=\"M18.56 5.44l.94 2.06.94-2.06 2.06-.94-2.06-.94-.94-2.06-.94 2.06-2.06.94zm-11 1L8.5 8.5l.94-2.06 2.06-.94-2.06-.94L8.5 2.5l-.94 2.06-2.06.94zm10 10l.94 2.06.94-2.06 2.06-.94-2.06-.94-.94-2.06-.94 2.06-2.06.94z\"/><path d=\"M17.41 7.96l-1.37-1.37c-.4-.4-.92-.59-1.43-.59-.52 0-1.04.2-1.43.59L10.3 9.45l-7.72 7.72c-.78.78-.78 2.05 0 2.83L4 21.41c.39.39.9.59 1.41.59.51 0 1.02-.2 1.41-.59l7.78-7.78 2.81-2.81c.8-.78.8-2.07 0-2.86zM5.41 20L4 18.59l7.72-7.72 1.47 1.35L5.41 20z\"/>\n",
              "  </svg>\n",
              "      </button>\n",
              "      \n",
              "  <style>\n",
              "    .colab-df-container {\n",
              "      display:flex;\n",
              "      flex-wrap:wrap;\n",
              "      gap: 12px;\n",
              "    }\n",
              "\n",
              "    .colab-df-convert {\n",
              "      background-color: #E8F0FE;\n",
              "      border: none;\n",
              "      border-radius: 50%;\n",
              "      cursor: pointer;\n",
              "      display: none;\n",
              "      fill: #1967D2;\n",
              "      height: 32px;\n",
              "      padding: 0 0 0 0;\n",
              "      width: 32px;\n",
              "    }\n",
              "\n",
              "    .colab-df-convert:hover {\n",
              "      background-color: #E2EBFA;\n",
              "      box-shadow: 0px 1px 2px rgba(60, 64, 67, 0.3), 0px 1px 3px 1px rgba(60, 64, 67, 0.15);\n",
              "      fill: #174EA6;\n",
              "    }\n",
              "\n",
              "    [theme=dark] .colab-df-convert {\n",
              "      background-color: #3B4455;\n",
              "      fill: #D2E3FC;\n",
              "    }\n",
              "\n",
              "    [theme=dark] .colab-df-convert:hover {\n",
              "      background-color: #434B5C;\n",
              "      box-shadow: 0px 1px 3px 1px rgba(0, 0, 0, 0.15);\n",
              "      filter: drop-shadow(0px 1px 2px rgba(0, 0, 0, 0.3));\n",
              "      fill: #FFFFFF;\n",
              "    }\n",
              "  </style>\n",
              "\n",
              "      <script>\n",
              "        const buttonEl =\n",
              "          document.querySelector('#df-9739ccb0-393f-4edf-842d-8d08aef36d71 button.colab-df-convert');\n",
              "        buttonEl.style.display =\n",
              "          google.colab.kernel.accessAllowed ? 'block' : 'none';\n",
              "\n",
              "        async function convertToInteractive(key) {\n",
              "          const element = document.querySelector('#df-9739ccb0-393f-4edf-842d-8d08aef36d71');\n",
              "          const dataTable =\n",
              "            await google.colab.kernel.invokeFunction('convertToInteractive',\n",
              "                                                     [key], {});\n",
              "          if (!dataTable) return;\n",
              "\n",
              "          const docLinkHtml = 'Like what you see? Visit the ' +\n",
              "            '<a target=\"_blank\" href=https://colab.research.google.com/notebooks/data_table.ipynb>data table notebook</a>'\n",
              "            + ' to learn more about interactive tables.';\n",
              "          element.innerHTML = '';\n",
              "          dataTable['output_type'] = 'display_data';\n",
              "          await google.colab.output.renderOutput(dataTable, element);\n",
              "          const docLink = document.createElement('div');\n",
              "          docLink.innerHTML = docLinkHtml;\n",
              "          element.appendChild(docLink);\n",
              "        }\n",
              "      </script>\n",
              "    </div>\n",
              "  </div>\n",
              "  "
            ],
            "text/plain": [
              "       Month  Passenger Travel\n",
              "139  1960-08             606.0\n",
              "140  1960-09             508.0\n",
              "141  1960-10             461.0\n",
              "142  1960-11             390.0\n",
              "143  1960-12             432.0"
            ]
          },
          "metadata": {},
          "execution_count": 54
        }
      ]
    },
    {
      "cell_type": "code",
      "source": [
        "df.shape"
      ],
      "metadata": {
        "colab": {
          "base_uri": "https://localhost:8080/"
        },
        "id": "2KaXyPeMR_YK",
        "outputId": "5e037f52-b273-49b7-d091-904f881dd589"
      },
      "execution_count": 55,
      "outputs": [
        {
          "output_type": "execute_result",
          "data": {
            "text/plain": [
              "(144, 2)"
            ]
          },
          "metadata": {},
          "execution_count": 55
        }
      ]
    },
    {
      "cell_type": "code",
      "source": [
        "df['Month']=pd.to_datetime(df['Month'])"
      ],
      "metadata": {
        "id": "--cKOPsvR_EU"
      },
      "execution_count": 56,
      "outputs": []
    },
    {
      "cell_type": "code",
      "source": [
        "df.info()"
      ],
      "metadata": {
        "colab": {
          "base_uri": "https://localhost:8080/"
        },
        "id": "w_5b4PL1R-_6",
        "outputId": "1fdf9b53-5e15-4381-f518-2d8a1366ea26"
      },
      "execution_count": 57,
      "outputs": [
        {
          "output_type": "stream",
          "name": "stdout",
          "text": [
            "<class 'pandas.core.frame.DataFrame'>\n",
            "Int64Index: 144 entries, 0 to 143\n",
            "Data columns (total 2 columns):\n",
            " #   Column            Non-Null Count  Dtype         \n",
            "---  ------            --------------  -----         \n",
            " 0   Month             144 non-null    datetime64[ns]\n",
            " 1   Passenger Travel  144 non-null    float64       \n",
            "dtypes: datetime64[ns](1), float64(1)\n",
            "memory usage: 3.4 KB\n"
          ]
        }
      ]
    },
    {
      "cell_type": "code",
      "source": [
        "df.set_index('Month',inplace = True)"
      ],
      "metadata": {
        "id": "Pb5flxTWR-mP"
      },
      "execution_count": 58,
      "outputs": []
    },
    {
      "cell_type": "code",
      "source": [
        "df.head()"
      ],
      "metadata": {
        "colab": {
          "base_uri": "https://localhost:8080/",
          "height": 238
        },
        "id": "y6Q4MnNmR-jM",
        "outputId": "454f5cfc-832b-42f8-b136-488530b1910e"
      },
      "execution_count": 59,
      "outputs": [
        {
          "output_type": "execute_result",
          "data": {
            "text/html": [
              "\n",
              "  <div id=\"df-803704b7-3086-4a9d-b465-815700d8d147\">\n",
              "    <div class=\"colab-df-container\">\n",
              "      <div>\n",
              "<style scoped>\n",
              "    .dataframe tbody tr th:only-of-type {\n",
              "        vertical-align: middle;\n",
              "    }\n",
              "\n",
              "    .dataframe tbody tr th {\n",
              "        vertical-align: top;\n",
              "    }\n",
              "\n",
              "    .dataframe thead th {\n",
              "        text-align: right;\n",
              "    }\n",
              "</style>\n",
              "<table border=\"1\" class=\"dataframe\">\n",
              "  <thead>\n",
              "    <tr style=\"text-align: right;\">\n",
              "      <th></th>\n",
              "      <th>Passenger Travel</th>\n",
              "    </tr>\n",
              "    <tr>\n",
              "      <th>Month</th>\n",
              "      <th></th>\n",
              "    </tr>\n",
              "  </thead>\n",
              "  <tbody>\n",
              "    <tr>\n",
              "      <th>1949-01-01</th>\n",
              "      <td>112.0</td>\n",
              "    </tr>\n",
              "    <tr>\n",
              "      <th>1949-02-01</th>\n",
              "      <td>118.0</td>\n",
              "    </tr>\n",
              "    <tr>\n",
              "      <th>1949-03-01</th>\n",
              "      <td>132.0</td>\n",
              "    </tr>\n",
              "    <tr>\n",
              "      <th>1949-04-01</th>\n",
              "      <td>129.0</td>\n",
              "    </tr>\n",
              "    <tr>\n",
              "      <th>1949-05-01</th>\n",
              "      <td>121.0</td>\n",
              "    </tr>\n",
              "  </tbody>\n",
              "</table>\n",
              "</div>\n",
              "      <button class=\"colab-df-convert\" onclick=\"convertToInteractive('df-803704b7-3086-4a9d-b465-815700d8d147')\"\n",
              "              title=\"Convert this dataframe to an interactive table.\"\n",
              "              style=\"display:none;\">\n",
              "        \n",
              "  <svg xmlns=\"http://www.w3.org/2000/svg\" height=\"24px\"viewBox=\"0 0 24 24\"\n",
              "       width=\"24px\">\n",
              "    <path d=\"M0 0h24v24H0V0z\" fill=\"none\"/>\n",
              "    <path d=\"M18.56 5.44l.94 2.06.94-2.06 2.06-.94-2.06-.94-.94-2.06-.94 2.06-2.06.94zm-11 1L8.5 8.5l.94-2.06 2.06-.94-2.06-.94L8.5 2.5l-.94 2.06-2.06.94zm10 10l.94 2.06.94-2.06 2.06-.94-2.06-.94-.94-2.06-.94 2.06-2.06.94z\"/><path d=\"M17.41 7.96l-1.37-1.37c-.4-.4-.92-.59-1.43-.59-.52 0-1.04.2-1.43.59L10.3 9.45l-7.72 7.72c-.78.78-.78 2.05 0 2.83L4 21.41c.39.39.9.59 1.41.59.51 0 1.02-.2 1.41-.59l7.78-7.78 2.81-2.81c.8-.78.8-2.07 0-2.86zM5.41 20L4 18.59l7.72-7.72 1.47 1.35L5.41 20z\"/>\n",
              "  </svg>\n",
              "      </button>\n",
              "      \n",
              "  <style>\n",
              "    .colab-df-container {\n",
              "      display:flex;\n",
              "      flex-wrap:wrap;\n",
              "      gap: 12px;\n",
              "    }\n",
              "\n",
              "    .colab-df-convert {\n",
              "      background-color: #E8F0FE;\n",
              "      border: none;\n",
              "      border-radius: 50%;\n",
              "      cursor: pointer;\n",
              "      display: none;\n",
              "      fill: #1967D2;\n",
              "      height: 32px;\n",
              "      padding: 0 0 0 0;\n",
              "      width: 32px;\n",
              "    }\n",
              "\n",
              "    .colab-df-convert:hover {\n",
              "      background-color: #E2EBFA;\n",
              "      box-shadow: 0px 1px 2px rgba(60, 64, 67, 0.3), 0px 1px 3px 1px rgba(60, 64, 67, 0.15);\n",
              "      fill: #174EA6;\n",
              "    }\n",
              "\n",
              "    [theme=dark] .colab-df-convert {\n",
              "      background-color: #3B4455;\n",
              "      fill: #D2E3FC;\n",
              "    }\n",
              "\n",
              "    [theme=dark] .colab-df-convert:hover {\n",
              "      background-color: #434B5C;\n",
              "      box-shadow: 0px 1px 3px 1px rgba(0, 0, 0, 0.15);\n",
              "      filter: drop-shadow(0px 1px 2px rgba(0, 0, 0, 0.3));\n",
              "      fill: #FFFFFF;\n",
              "    }\n",
              "  </style>\n",
              "\n",
              "      <script>\n",
              "        const buttonEl =\n",
              "          document.querySelector('#df-803704b7-3086-4a9d-b465-815700d8d147 button.colab-df-convert');\n",
              "        buttonEl.style.display =\n",
              "          google.colab.kernel.accessAllowed ? 'block' : 'none';\n",
              "\n",
              "        async function convertToInteractive(key) {\n",
              "          const element = document.querySelector('#df-803704b7-3086-4a9d-b465-815700d8d147');\n",
              "          const dataTable =\n",
              "            await google.colab.kernel.invokeFunction('convertToInteractive',\n",
              "                                                     [key], {});\n",
              "          if (!dataTable) return;\n",
              "\n",
              "          const docLinkHtml = 'Like what you see? Visit the ' +\n",
              "            '<a target=\"_blank\" href=https://colab.research.google.com/notebooks/data_table.ipynb>data table notebook</a>'\n",
              "            + ' to learn more about interactive tables.';\n",
              "          element.innerHTML = '';\n",
              "          dataTable['output_type'] = 'display_data';\n",
              "          await google.colab.output.renderOutput(dataTable, element);\n",
              "          const docLink = document.createElement('div');\n",
              "          docLink.innerHTML = docLinkHtml;\n",
              "          element.appendChild(docLink);\n",
              "        }\n",
              "      </script>\n",
              "    </div>\n",
              "  </div>\n",
              "  "
            ],
            "text/plain": [
              "            Passenger Travel\n",
              "Month                       \n",
              "1949-01-01             112.0\n",
              "1949-02-01             118.0\n",
              "1949-03-01             132.0\n",
              "1949-04-01             129.0\n",
              "1949-05-01             121.0"
            ]
          },
          "metadata": {},
          "execution_count": 59
        }
      ]
    },
    {
      "cell_type": "code",
      "source": [
        "df.plot()"
      ],
      "metadata": {
        "colab": {
          "base_uri": "https://localhost:8080/",
          "height": 296
        },
        "id": "rcKJXQgYTABu",
        "outputId": "f11c13dd-af2c-4066-ab37-aab8d0266625"
      },
      "execution_count": 60,
      "outputs": [
        {
          "output_type": "execute_result",
          "data": {
            "text/plain": [
              "<matplotlib.axes._subplots.AxesSubplot at 0x7fa0c157df50>"
            ]
          },
          "metadata": {},
          "execution_count": 60
        },
        {
          "output_type": "display_data",
          "data": {
            "image/png": "[encoded data removed]",
            "text/plain": [
              "<Figure size 432x288 with 1 Axes>"
            ]
          },
          "metadata": {
            "needs_background": "light"
          }
        }
      ]
    },
    {
      "cell_type": "code",
      "source": [
        "from statsmodels.tsa.stattools import adfuller"
      ],
      "metadata": {
        "id": "iU2KKkjbS__M"
      },
      "execution_count": 61,
      "outputs": []
    },
    {
      "cell_type": "code",
      "source": [
        "def adfuller_test(series):\n",
        "  result = adfuller(series)\n",
        "  print('Adf statistics {}'.format(result[0]))\n",
        "  print('P-value {}'.format(result[1]))\n",
        "  if result[1]<=0.05:\n",
        "      print(\"Reject Null hypothies ,Because we have strong evidence\")\n",
        "  else:\n",
        "      print(\"Do not reject null hyothies\")"
      ],
      "metadata": {
        "id": "UQQpc-G2S_8I"
      },
      "execution_count": 62,
      "outputs": []
    },
    {
      "cell_type": "code",
      "source": [
        "adfuller_test(df['Passenger Travel'])"
      ],
      "metadata": {
        "colab": {
          "base_uri": "https://localhost:8080/"
        },
        "id": "fDEsg01dS_47",
        "outputId": "e58eea7f-fade-44e0-ca0b-3b1134f8de39"
      },
      "execution_count": 63,
      "outputs": [
        {
          "output_type": "stream",
          "name": "stdout",
          "text": [
            "Adf statistics 0.8153688792060472\n",
            "P-value 0.991880243437641\n",
            "Do not reject null hyothies\n"
          ]
        }
      ]
    },
    {
      "cell_type": "code",
      "source": [
        "df['First Difference of Passenger data'] = df['Passenger Travel']-df['Passenger Travel'].shift(1)"
      ],
      "metadata": {
        "id": "Wi53_nDXS_1X"
      },
      "execution_count": 64,
      "outputs": []
    },
    {
      "cell_type": "code",
      "source": [
        "df.head()"
      ],
      "metadata": {
        "colab": {
          "base_uri": "https://localhost:8080/",
          "height": 238
        },
        "id": "rntiUmciWMGZ",
        "outputId": "dbfa1f22-f2e1-4616-95de-dd5a7ab92ddd"
      },
      "execution_count": 65,
      "outputs": [
        {
          "output_type": "execute_result",
          "data": {
            "text/html": [
              "\n",
              "  <div id=\"df-896a3679-b5d8-49ad-95f5-7deb28f4cdd6\">\n",
              "    <div class=\"colab-df-container\">\n",
              "      <div>\n",
              "<style scoped>\n",
              "    .dataframe tbody tr th:only-of-type {\n",
              "        vertical-align: middle;\n",
              "    }\n",
              "\n",
              "    .dataframe tbody tr th {\n",
              "        vertical-align: top;\n",
              "    }\n",
              "\n",
              "    .dataframe thead th {\n",
              "        text-align: right;\n",
              "    }\n",
              "</style>\n",
              "<table border=\"1\" class=\"dataframe\">\n",
              "  <thead>\n",
              "    <tr style=\"text-align: right;\">\n",
              "      <th></th>\n",
              "      <th>Passenger Travel</th>\n",
              "      <th>First Difference of Passenger data</th>\n",
              "    </tr>\n",
              "    <tr>\n",
              "      <th>Month</th>\n",
              "      <th></th>\n",
              "      <th></th>\n",
              "    </tr>\n",
              "  </thead>\n",
              "  <tbody>\n",
              "    <tr>\n",
              "      <th>1949-01-01</th>\n",
              "      <td>112.0</td>\n",
              "      <td>NaN</td>\n",
              "    </tr>\n",
              "    <tr>\n",
              "      <th>1949-02-01</th>\n",
              "      <td>118.0</td>\n",
              "      <td>6.0</td>\n",
              "    </tr>\n",
              "    <tr>\n",
              "      <th>1949-03-01</th>\n",
              "      <td>132.0</td>\n",
              "      <td>14.0</td>\n",
              "    </tr>\n",
              "    <tr>\n",
              "      <th>1949-04-01</th>\n",
              "      <td>129.0</td>\n",
              "      <td>-3.0</td>\n",
              "    </tr>\n",
              "    <tr>\n",
              "      <th>1949-05-01</th>\n",
              "      <td>121.0</td>\n",
              "      <td>-8.0</td>\n",
              "    </tr>\n",
              "  </tbody>\n",
              "</table>\n",
              "</div>\n",
              "      <button class=\"colab-df-convert\" onclick=\"convertToInteractive('df-896a3679-b5d8-49ad-95f5-7deb28f4cdd6')\"\n",
              "              title=\"Convert this dataframe to an interactive table.\"\n",
              "              style=\"display:none;\">\n",
              "        \n",
              "  <svg xmlns=\"http://www.w3.org/2000/svg\" height=\"24px\"viewBox=\"0 0 24 24\"\n",
              "       width=\"24px\">\n",
              "    <path d=\"M0 0h24v24H0V0z\" fill=\"none\"/>\n",
              "    <path d=\"M18.56 5.44l.94 2.06.94-2.06 2.06-.94-2.06-.94-.94-2.06-.94 2.06-2.06.94zm-11 1L8.5 8.5l.94-2.06 2.06-.94-2.06-.94L8.5 2.5l-.94 2.06-2.06.94zm10 10l.94 2.06.94-2.06 2.06-.94-2.06-.94-.94-2.06-.94 2.06-2.06.94z\"/><path d=\"M17.41 7.96l-1.37-1.37c-.4-.4-.92-.59-1.43-.59-.52 0-1.04.2-1.43.59L10.3 9.45l-7.72 7.72c-.78.78-.78 2.05 0 2.83L4 21.41c.39.39.9.59 1.41.59.51 0 1.02-.2 1.41-.59l7.78-7.78 2.81-2.81c.8-.78.8-2.07 0-2.86zM5.41 20L4 18.59l7.72-7.72 1.47 1.35L5.41 20z\"/>\n",
              "  </svg>\n",
              "      </button>\n",
              "      \n",
              "  <style>\n",
              "    .colab-df-container {\n",
              "      display:flex;\n",
              "      flex-wrap:wrap;\n",
              "      gap: 12px;\n",
              "    }\n",
              "\n",
              "    .colab-df-convert {\n",
              "      background-color: #E8F0FE;\n",
              "      border: none;\n",
              "      border-radius: 50%;\n",
              "      cursor: pointer;\n",
              "      display: none;\n",
              "      fill: #1967D2;\n",
              "      height: 32px;\n",
              "      padding: 0 0 0 0;\n",
              "      width: 32px;\n",
              "    }\n",
              "\n",
              "    .colab-df-convert:hover {\n",
              "      background-color: #E2EBFA;\n",
              "      box-shadow: 0px 1px 2px rgba(60, 64, 67, 0.3), 0px 1px 3px 1px rgba(60, 64, 67, 0.15);\n",
              "      fill: #174EA6;\n",
              "    }\n",
              "\n",
              "    [theme=dark] .colab-df-convert {\n",
              "      background-color: #3B4455;\n",
              "      fill: #D2E3FC;\n",
              "    }\n",
              "\n",
              "    [theme=dark] .colab-df-convert:hover {\n",
              "      background-color: #434B5C;\n",
              "      box-shadow: 0px 1px 3px 1px rgba(0, 0, 0, 0.15);\n",
              "      filter: drop-shadow(0px 1px 2px rgba(0, 0, 0, 0.3));\n",
              "      fill: #FFFFFF;\n",
              "    }\n",
              "  </style>\n",
              "\n",
              "      <script>\n",
              "        const buttonEl =\n",
              "          document.querySelector('#df-896a3679-b5d8-49ad-95f5-7deb28f4cdd6 button.colab-df-convert');\n",
              "        buttonEl.style.display =\n",
              "          google.colab.kernel.accessAllowed ? 'block' : 'none';\n",
              "\n",
              "        async function convertToInteractive(key) {\n",
              "          const element = document.querySelector('#df-896a3679-b5d8-49ad-95f5-7deb28f4cdd6');\n",
              "          const dataTable =\n",
              "            await google.colab.kernel.invokeFunction('convertToInteractive',\n",
              "                                                     [key], {});\n",
              "          if (!dataTable) return;\n",
              "\n",
              "          const docLinkHtml = 'Like what you see? Visit the ' +\n",
              "            '<a target=\"_blank\" href=https://colab.research.google.com/notebooks/data_table.ipynb>data table notebook</a>'\n",
              "            + ' to learn more about interactive tables.';\n",
              "          element.innerHTML = '';\n",
              "          dataTable['output_type'] = 'display_data';\n",
              "          await google.colab.output.renderOutput(dataTable, element);\n",
              "          const docLink = document.createElement('div');\n",
              "          docLink.innerHTML = docLinkHtml;\n",
              "          element.appendChild(docLink);\n",
              "        }\n",
              "      </script>\n",
              "    </div>\n",
              "  </div>\n",
              "  "
            ],
            "text/plain": [
              "            Passenger Travel  First Difference of Passenger data\n",
              "Month                                                           \n",
              "1949-01-01             112.0                                 NaN\n",
              "1949-02-01             118.0                                 6.0\n",
              "1949-03-01             132.0                                14.0\n",
              "1949-04-01             129.0                                -3.0\n",
              "1949-05-01             121.0                                -8.0"
            ]
          },
          "metadata": {},
          "execution_count": 65
        }
      ]
    },
    {
      "cell_type": "code",
      "source": [
        "adfuller_test(df['First Difference of Passenger data'].dropna())"
      ],
      "metadata": {
        "colab": {
          "base_uri": "https://localhost:8080/"
        },
        "id": "8dMJdhPfWMBz",
        "outputId": "fcffc29d-84ee-48d5-902f-dcd1b1eafcdc"
      },
      "execution_count": 66,
      "outputs": [
        {
          "output_type": "stream",
          "name": "stdout",
          "text": [
            "Adf statistics -2.8292668241700056\n",
            "P-value 0.054213290283824704\n",
            "Do not reject null hyothies\n"
          ]
        }
      ]
    },
    {
      "cell_type": "code",
      "source": [
        "df['Second Difference of Passenger data'] = df['First Difference of Passenger data']-df['First Difference of Passenger data'].shift(1)"
      ],
      "metadata": {
        "id": "8hIz6wV0WL9W"
      },
      "execution_count": 67,
      "outputs": []
    },
    {
      "cell_type": "code",
      "source": [
        "adfuller_test(df['Second Difference of Passenger data'].dropna())"
      ],
      "metadata": {
        "colab": {
          "base_uri": "https://localhost:8080/"
        },
        "id": "Hxr_ECiXXZtq",
        "outputId": "0f48fa51-748e-414a-e6d3-f47fb09b9d8d"
      },
      "execution_count": 68,
      "outputs": [
        {
          "output_type": "stream",
          "name": "stdout",
          "text": [
            "Adf statistics -16.384231542468495\n",
            "P-value 2.7328918500143186e-29\n",
            "Reject Null hypothies ,Because we have strong evidence\n"
          ]
        }
      ]
    },
    {
      "cell_type": "code",
      "source": [
        "df['12 Difference of Passenger data'] = df['Passenger Travel']-df['Passenger Travel'].shift(12)"
      ],
      "metadata": {
        "id": "Alxik600X6zT"
      },
      "execution_count": 69,
      "outputs": []
    },
    {
      "cell_type": "code",
      "source": [
        "adfuller_test(df['12 Difference of Passenger data'].dropna())"
      ],
      "metadata": {
        "colab": {
          "base_uri": "https://localhost:8080/"
        },
        "id": "cvdNzGT7X6we",
        "outputId": "dd7c85b6-0137-4a59-f8e6-6ddc68aff439"
      },
      "execution_count": 70,
      "outputs": [
        {
          "output_type": "stream",
          "name": "stdout",
          "text": [
            "Adf statistics -3.383020726492481\n",
            "P-value 0.011551493085514952\n",
            "Reject Null hypothies ,Because we have strong evidence\n"
          ]
        }
      ]
    },
    {
      "cell_type": "code",
      "source": [
        "from statsmodels.graphics.tsaplots import plot_acf,plot_pacf"
      ],
      "metadata": {
        "id": "_COtvPpFXVSq"
      },
      "execution_count": 71,
      "outputs": []
    },
    {
      "cell_type": "code",
      "source": [
        "acf = plot_acf(df['Second Difference of Passenger data'].dropna())"
      ],
      "metadata": {
        "colab": {
          "base_uri": "https://localhost:8080/",
          "height": 281
        },
        "id": "OY1bezHFXVQf",
        "outputId": "eaf6c9bb-f0d3-4a21-8d91-2fa463e93d37"
      },
      "execution_count": 72,
      "outputs": [
        {
          "output_type": "display_data",
          "data": {
            "image/png": "[encoded data removed]",
            "text/plain": [
              "<Figure size 432x288 with 1 Axes>"
            ]
          },
          "metadata": {
            "needs_background": "light"
          }
        }
      ]
    },
    {
      "cell_type": "code",
      "source": [
        "acf12 = plot_acf(df['12 Difference of Passenger data'].dropna())"
      ],
      "metadata": {
        "colab": {
          "base_uri": "https://localhost:8080/",
          "height": 281
        },
        "id": "IUPrffsTaO-L",
        "outputId": "b2361af7-cdc4-46f9-ea51-f81df480842a"
      },
      "execution_count": 73,
      "outputs": [
        {
          "output_type": "display_data",
          "data": {
            "image/png": "[encoded data removed]",
            "text/plain": [
              "<Figure size 432x288 with 1 Axes>"
            ]
          },
          "metadata": {
            "needs_background": "light"
          }
        }
      ]
    },
    {
      "cell_type": "code",
      "source": [
        "pacf12 = plot_pacf(df['12 Difference of Passenger data'].dropna())"
      ],
      "metadata": {
        "colab": {
          "base_uri": "https://localhost:8080/",
          "height": 281
        },
        "id": "_EkZmLyTa-YZ",
        "outputId": "ffb16396-9948-4b27-9629-eb734dd38cbb"
      },
      "execution_count": 74,
      "outputs": [
        {
          "output_type": "display_data",
          "data": {
            "image/png": "[encoded data removed]",
            "text/plain": [
              "<Figure size 432x288 with 1 Axes>"
            ]
          },
          "metadata": {
            "needs_background": "light"
          }
        }
      ]
    },
    {
      "cell_type": "code",
      "source": [
        "pacf = plot_pacf(df['Second Difference of Passenger data'].dropna())"
      ],
      "metadata": {
        "colab": {
          "base_uri": "https://localhost:8080/",
          "height": 316
        },
        "id": "_1OWe5DFXVOG",
        "outputId": "00247ead-3667-4c3f-c2f3-a2688d2bfd2f"
      },
      "execution_count": 75,
      "outputs": [
        {
          "output_type": "stream",
          "name": "stderr",
          "text": [
            "/usr/local/lib/python3.7/dist-packages/statsmodels/regression/linear_model.py:1358: RuntimeWarning: invalid value encountered in sqrt\n",
            "  return rho, np.sqrt(sigmasq)\n"
          ]
        },
        {
          "output_type": "display_data",
          "data": {
            "image/png": "[encoded data removed]",
            "text/plain": [
              "<Figure size 432x288 with 1 Axes>"
            ]
          },
          "metadata": {
            "needs_background": "light"
          }
        }
      ]
    },
    {
      "cell_type": "code",
      "source": [
        "train_dataset_end = datetime(1955,12,1)\n",
        "test_dataset_end = datetime(1960,12,1)"
      ],
      "metadata": {
        "id": "ts0CY0CbXVLS"
      },
      "execution_count": 76,
      "outputs": []
    },
    {
      "cell_type": "code",
      "source": [
        "train_data = df[:train_dataset_end]\n",
        "test_data = df[train_dataset_end+timedelta(days=1):test_dataset_end]"
      ],
      "metadata": {
        "id": "LegKFcKTXVI4"
      },
      "execution_count": 77,
      "outputs": []
    },
    {
      "cell_type": "code",
      "source": [
        "pred_start_date = test_data.index[0]\n",
        "pred_end_date = test_data.index[-1]"
      ],
      "metadata": {
        "id": "y_9ZsRBRXVFa"
      },
      "execution_count": 78,
      "outputs": []
    },
    {
      "cell_type": "code",
      "source": [
        "test_data"
      ],
      "metadata": {
        "colab": {
          "base_uri": "https://localhost:8080/",
          "height": 1000
        },
        "id": "e4kxX3nmdRrJ",
        "outputId": "e34bf6fd-e5fb-47b1-834b-259155ce5cac"
      },
      "execution_count": 79,
      "outputs": [
        {
          "output_type": "execute_result",
          "data": {
            "text/html": [
              "\n",
              "  <div id=\"df-b84b4a5d-73a3-4845-9267-7844be281f16\">\n",
              "    <div class=\"colab-df-container\">\n",
              "      <div>\n",
              "<style scoped>\n",
              "    .dataframe tbody tr th:only-of-type {\n",
              "        vertical-align: middle;\n",
              "    }\n",
              "\n",
              "    .dataframe tbody tr th {\n",
              "        vertical-align: top;\n",
              "    }\n",
              "\n",
              "    .dataframe thead th {\n",
              "        text-align: right;\n",
              "    }\n",
              "</style>\n",
              "<table border=\"1\" class=\"dataframe\">\n",
              "  <thead>\n",
              "    <tr style=\"text-align: right;\">\n",
              "      <th></th>\n",
              "      <th>Passenger Travel</th>\n",
              "      <th>First Difference of Passenger data</th>\n",
              "      <th>Second Difference of Passenger data</th>\n",
              "      <th>12 Difference of Passenger data</th>\n",
              "    </tr>\n",
              "    <tr>\n",
              "      <th>Month</th>\n",
              "      <th></th>\n",
              "      <th></th>\n",
              "      <th></th>\n",
              "      <th></th>\n",
              "    </tr>\n",
              "  </thead>\n",
              "  <tbody>\n",
              "    <tr>\n",
              "      <th>1956-01-01</th>\n",
              "      <td>284.0</td>\n",
              "      <td>6.0</td>\n",
              "      <td>-35.0</td>\n",
              "      <td>42.0</td>\n",
              "    </tr>\n",
              "    <tr>\n",
              "      <th>1956-02-01</th>\n",
              "      <td>277.0</td>\n",
              "      <td>-7.0</td>\n",
              "      <td>-13.0</td>\n",
              "      <td>44.0</td>\n",
              "    </tr>\n",
              "    <tr>\n",
              "      <th>1956-03-01</th>\n",
              "      <td>317.0</td>\n",
              "      <td>40.0</td>\n",
              "      <td>47.0</td>\n",
              "      <td>50.0</td>\n",
              "    </tr>\n",
              "    <tr>\n",
              "      <th>1956-04-01</th>\n",
              "      <td>313.0</td>\n",
              "      <td>-4.0</td>\n",
              "      <td>-44.0</td>\n",
              "      <td>44.0</td>\n",
              "    </tr>\n",
              "    <tr>\n",
              "      <th>1956-05-01</th>\n",
              "      <td>318.0</td>\n",
              "      <td>5.0</td>\n",
              "      <td>9.0</td>\n",
              "      <td>48.0</td>\n",
              "    </tr>\n",
              "    <tr>\n",
              "      <th>1956-06-01</th>\n",
              "      <td>374.0</td>\n",
              "      <td>56.0</td>\n",
              "      <td>51.0</td>\n",
              "      <td>59.0</td>\n",
              "    </tr>\n",
              "    <tr>\n",
              "      <th>1956-07-01</th>\n",
              "      <td>413.0</td>\n",
              "      <td>39.0</td>\n",
              "      <td>-17.0</td>\n",
              "      <td>49.0</td>\n",
              "    </tr>\n",
              "    <tr>\n",
              "      <th>1956-08-01</th>\n",
              "      <td>405.0</td>\n",
              "      <td>-8.0</td>\n",
              "      <td>-47.0</td>\n",
              "      <td>58.0</td>\n",
              "    </tr>\n",
              "    <tr>\n",
              "      <th>1956-09-01</th>\n",
              "      <td>355.0</td>\n",
              "      <td>-50.0</td>\n",
              "      <td>-42.0</td>\n",
              "      <td>43.0</td>\n",
              "    </tr>\n",
              "    <tr>\n",
              "      <th>1956-10-01</th>\n",
              "      <td>306.0</td>\n",
              "      <td>-49.0</td>\n",
              "      <td>1.0</td>\n",
              "      <td>32.0</td>\n",
              "    </tr>\n",
              "    <tr>\n",
              "      <th>1956-11-01</th>\n",
              "      <td>271.0</td>\n",
              "      <td>-35.0</td>\n",
              "      <td>14.0</td>\n",
              "      <td>34.0</td>\n",
              "    </tr>\n",
              "    <tr>\n",
              "      <th>1956-12-01</th>\n",
              "      <td>306.0</td>\n",
              "      <td>35.0</td>\n",
              "      <td>70.0</td>\n",
              "      <td>28.0</td>\n",
              "    </tr>\n",
              "    <tr>\n",
              "      <th>1957-01-01</th>\n",
              "      <td>315.0</td>\n",
              "      <td>9.0</td>\n",
              "      <td>-26.0</td>\n",
              "      <td>31.0</td>\n",
              "    </tr>\n",
              "    <tr>\n",
              "      <th>1957-02-01</th>\n",
              "      <td>301.0</td>\n",
              "      <td>-14.0</td>\n",
              "      <td>-23.0</td>\n",
              "      <td>24.0</td>\n",
              "    </tr>\n",
              "    <tr>\n",
              "      <th>1957-03-01</th>\n",
              "      <td>356.0</td>\n",
              "      <td>55.0</td>\n",
              "      <td>69.0</td>\n",
              "      <td>39.0</td>\n",
              "    </tr>\n",
              "    <tr>\n",
              "      <th>1957-04-01</th>\n",
              "      <td>348.0</td>\n",
              "      <td>-8.0</td>\n",
              "      <td>-63.0</td>\n",
              "      <td>35.0</td>\n",
              "    </tr>\n",
              "    <tr>\n",
              "      <th>1957-05-01</th>\n",
              "      <td>355.0</td>\n",
              "      <td>7.0</td>\n",
              "      <td>15.0</td>\n",
              "      <td>37.0</td>\n",
              "    </tr>\n",
              "    <tr>\n",
              "      <th>1957-06-01</th>\n",
              "      <td>422.0</td>\n",
              "      <td>67.0</td>\n",
              "      <td>60.0</td>\n",
              "      <td>48.0</td>\n",
              "    </tr>\n",
              "    <tr>\n",
              "      <th>1957-07-01</th>\n",
              "      <td>465.0</td>\n",
              "      <td>43.0</td>\n",
              "      <td>-24.0</td>\n",
              "      <td>52.0</td>\n",
              "    </tr>\n",
              "    <tr>\n",
              "      <th>1957-08-01</th>\n",
              "      <td>467.0</td>\n",
              "      <td>2.0</td>\n",
              "      <td>-41.0</td>\n",
              "      <td>62.0</td>\n",
              "    </tr>\n",
              "    <tr>\n",
              "      <th>1957-09-01</th>\n",
              "      <td>404.0</td>\n",
              "      <td>-63.0</td>\n",
              "      <td>-65.0</td>\n",
              "      <td>49.0</td>\n",
              "    </tr>\n",
              "    <tr>\n",
              "      <th>1957-10-01</th>\n",
              "      <td>347.0</td>\n",
              "      <td>-57.0</td>\n",
              "      <td>6.0</td>\n",
              "      <td>41.0</td>\n",
              "    </tr>\n",
              "    <tr>\n",
              "      <th>1957-11-01</th>\n",
              "      <td>305.0</td>\n",
              "      <td>-42.0</td>\n",
              "      <td>15.0</td>\n",
              "      <td>34.0</td>\n",
              "    </tr>\n",
              "    <tr>\n",
              "      <th>1957-12-01</th>\n",
              "      <td>336.0</td>\n",
              "      <td>31.0</td>\n",
              "      <td>73.0</td>\n",
              "      <td>30.0</td>\n",
              "    </tr>\n",
              "    <tr>\n",
              "      <th>1958-01-01</th>\n",
              "      <td>340.0</td>\n",
              "      <td>4.0</td>\n",
              "      <td>-27.0</td>\n",
              "      <td>25.0</td>\n",
              "    </tr>\n",
              "    <tr>\n",
              "      <th>1958-02-01</th>\n",
              "      <td>318.0</td>\n",
              "      <td>-22.0</td>\n",
              "      <td>-26.0</td>\n",
              "      <td>17.0</td>\n",
              "    </tr>\n",
              "    <tr>\n",
              "      <th>1958-03-01</th>\n",
              "      <td>362.0</td>\n",
              "      <td>44.0</td>\n",
              "      <td>66.0</td>\n",
              "      <td>6.0</td>\n",
              "    </tr>\n",
              "    <tr>\n",
              "      <th>1958-04-01</th>\n",
              "      <td>348.0</td>\n",
              "      <td>-14.0</td>\n",
              "      <td>-58.0</td>\n",
              "      <td>0.0</td>\n",
              "    </tr>\n",
              "    <tr>\n",
              "      <th>1958-05-01</th>\n",
              "      <td>363.0</td>\n",
              "      <td>15.0</td>\n",
              "      <td>29.0</td>\n",
              "      <td>8.0</td>\n",
              "    </tr>\n",
              "    <tr>\n",
              "      <th>1958-06-01</th>\n",
              "      <td>435.0</td>\n",
              "      <td>72.0</td>\n",
              "      <td>57.0</td>\n",
              "      <td>13.0</td>\n",
              "    </tr>\n",
              "    <tr>\n",
              "      <th>1958-07-01</th>\n",
              "      <td>491.0</td>\n",
              "      <td>56.0</td>\n",
              "      <td>-16.0</td>\n",
              "      <td>26.0</td>\n",
              "    </tr>\n",
              "    <tr>\n",
              "      <th>1958-08-01</th>\n",
              "      <td>505.0</td>\n",
              "      <td>14.0</td>\n",
              "      <td>-42.0</td>\n",
              "      <td>38.0</td>\n",
              "    </tr>\n",
              "    <tr>\n",
              "      <th>1958-09-01</th>\n",
              "      <td>404.0</td>\n",
              "      <td>-101.0</td>\n",
              "      <td>-115.0</td>\n",
              "      <td>0.0</td>\n",
              "    </tr>\n",
              "    <tr>\n",
              "      <th>1958-10-01</th>\n",
              "      <td>359.0</td>\n",
              "      <td>-45.0</td>\n",
              "      <td>56.0</td>\n",
              "      <td>12.0</td>\n",
              "    </tr>\n",
              "    <tr>\n",
              "      <th>1958-11-01</th>\n",
              "      <td>310.0</td>\n",
              "      <td>-49.0</td>\n",
              "      <td>-4.0</td>\n",
              "      <td>5.0</td>\n",
              "    </tr>\n",
              "    <tr>\n",
              "      <th>1958-12-01</th>\n",
              "      <td>337.0</td>\n",
              "      <td>27.0</td>\n",
              "      <td>76.0</td>\n",
              "      <td>1.0</td>\n",
              "    </tr>\n",
              "    <tr>\n",
              "      <th>1959-01-01</th>\n",
              "      <td>360.0</td>\n",
              "      <td>23.0</td>\n",
              "      <td>-4.0</td>\n",
              "      <td>20.0</td>\n",
              "    </tr>\n",
              "    <tr>\n",
              "      <th>1959-02-01</th>\n",
              "      <td>342.0</td>\n",
              "      <td>-18.0</td>\n",
              "      <td>-41.0</td>\n",
              "      <td>24.0</td>\n",
              "    </tr>\n",
              "    <tr>\n",
              "      <th>1959-03-01</th>\n",
              "      <td>406.0</td>\n",
              "      <td>64.0</td>\n",
              "      <td>82.0</td>\n",
              "      <td>44.0</td>\n",
              "    </tr>\n",
              "    <tr>\n",
              "      <th>1959-04-01</th>\n",
              "      <td>396.0</td>\n",
              "      <td>-10.0</td>\n",
              "      <td>-74.0</td>\n",
              "      <td>48.0</td>\n",
              "    </tr>\n",
              "    <tr>\n",
              "      <th>1959-05-01</th>\n",
              "      <td>420.0</td>\n",
              "      <td>24.0</td>\n",
              "      <td>34.0</td>\n",
              "      <td>57.0</td>\n",
              "    </tr>\n",
              "    <tr>\n",
              "      <th>1959-06-01</th>\n",
              "      <td>472.0</td>\n",
              "      <td>52.0</td>\n",
              "      <td>28.0</td>\n",
              "      <td>37.0</td>\n",
              "    </tr>\n",
              "    <tr>\n",
              "      <th>1959-07-01</th>\n",
              "      <td>548.0</td>\n",
              "      <td>76.0</td>\n",
              "      <td>24.0</td>\n",
              "      <td>57.0</td>\n",
              "    </tr>\n",
              "    <tr>\n",
              "      <th>1959-08-01</th>\n",
              "      <td>559.0</td>\n",
              "      <td>11.0</td>\n",
              "      <td>-65.0</td>\n",
              "      <td>54.0</td>\n",
              "    </tr>\n",
              "    <tr>\n",
              "      <th>1959-09-01</th>\n",
              "      <td>463.0</td>\n",
              "      <td>-96.0</td>\n",
              "      <td>-107.0</td>\n",
              "      <td>59.0</td>\n",
              "    </tr>\n",
              "    <tr>\n",
              "      <th>1959-10-01</th>\n",
              "      <td>407.0</td>\n",
              "      <td>-56.0</td>\n",
              "      <td>40.0</td>\n",
              "      <td>48.0</td>\n",
              "    </tr>\n",
              "    <tr>\n",
              "      <th>1959-11-01</th>\n",
              "      <td>362.0</td>\n",
              "      <td>-45.0</td>\n",
              "      <td>11.0</td>\n",
              "      <td>52.0</td>\n",
              "    </tr>\n",
              "    <tr>\n",
              "      <th>1959-12-01</th>\n",
              "      <td>405.0</td>\n",
              "      <td>43.0</td>\n",
              "      <td>88.0</td>\n",
              "      <td>68.0</td>\n",
              "    </tr>\n",
              "    <tr>\n",
              "      <th>1960-01-01</th>\n",
              "      <td>417.0</td>\n",
              "      <td>12.0</td>\n",
              "      <td>-31.0</td>\n",
              "      <td>57.0</td>\n",
              "    </tr>\n",
              "    <tr>\n",
              "      <th>1960-02-01</th>\n",
              "      <td>391.0</td>\n",
              "      <td>-26.0</td>\n",
              "      <td>-38.0</td>\n",
              "      <td>49.0</td>\n",
              "    </tr>\n",
              "    <tr>\n",
              "      <th>1960-03-01</th>\n",
              "      <td>419.0</td>\n",
              "      <td>28.0</td>\n",
              "      <td>54.0</td>\n",
              "      <td>13.0</td>\n",
              "    </tr>\n",
              "    <tr>\n",
              "      <th>1960-04-01</th>\n",
              "      <td>461.0</td>\n",
              "      <td>42.0</td>\n",
              "      <td>14.0</td>\n",
              "      <td>65.0</td>\n",
              "    </tr>\n",
              "    <tr>\n",
              "      <th>1960-05-01</th>\n",
              "      <td>472.0</td>\n",
              "      <td>11.0</td>\n",
              "      <td>-31.0</td>\n",
              "      <td>52.0</td>\n",
              "    </tr>\n",
              "    <tr>\n",
              "      <th>1960-06-01</th>\n",
              "      <td>535.0</td>\n",
              "      <td>63.0</td>\n",
              "      <td>52.0</td>\n",
              "      <td>63.0</td>\n",
              "    </tr>\n",
              "    <tr>\n",
              "      <th>1960-07-01</th>\n",
              "      <td>622.0</td>\n",
              "      <td>87.0</td>\n",
              "      <td>24.0</td>\n",
              "      <td>74.0</td>\n",
              "    </tr>\n",
              "    <tr>\n",
              "      <th>1960-08-01</th>\n",
              "      <td>606.0</td>\n",
              "      <td>-16.0</td>\n",
              "      <td>-103.0</td>\n",
              "      <td>47.0</td>\n",
              "    </tr>\n",
              "    <tr>\n",
              "      <th>1960-09-01</th>\n",
              "      <td>508.0</td>\n",
              "      <td>-98.0</td>\n",
              "      <td>-82.0</td>\n",
              "      <td>45.0</td>\n",
              "    </tr>\n",
              "    <tr>\n",
              "      <th>1960-10-01</th>\n",
              "      <td>461.0</td>\n",
              "      <td>-47.0</td>\n",
              "      <td>51.0</td>\n",
              "      <td>54.0</td>\n",
              "    </tr>\n",
              "    <tr>\n",
              "      <th>1960-11-01</th>\n",
              "      <td>390.0</td>\n",
              "      <td>-71.0</td>\n",
              "      <td>-24.0</td>\n",
              "      <td>28.0</td>\n",
              "    </tr>\n",
              "    <tr>\n",
              "      <th>1960-12-01</th>\n",
              "      <td>432.0</td>\n",
              "      <td>42.0</td>\n",
              "      <td>113.0</td>\n",
              "      <td>27.0</td>\n",
              "    </tr>\n",
              "  </tbody>\n",
              "</table>\n",
              "</div>\n",
              "      <button class=\"colab-df-convert\" onclick=\"convertToInteractive('df-b84b4a5d-73a3-4845-9267-7844be281f16')\"\n",
              "              title=\"Convert this dataframe to an interactive table.\"\n",
              "              style=\"display:none;\">\n",
              "        \n",
              "  <svg xmlns=\"http://www.w3.org/2000/svg\" height=\"24px\"viewBox=\"0 0 24 24\"\n",
              "       width=\"24px\">\n",
              "    <path d=\"M0 0h24v24H0V0z\" fill=\"none\"/>\n",
              "    <path d=\"M18.56 5.44l.94 2.06.94-2.06 2.06-.94-2.06-.94-.94-2.06-.94 2.06-2.06.94zm-11 1L8.5 8.5l.94-2.06 2.06-.94-2.06-.94L8.5 2.5l-.94 2.06-2.06.94zm10 10l.94 2.06.94-2.06 2.06-.94-2.06-.94-.94-2.06-.94 2.06-2.06.94z\"/><path d=\"M17.41 7.96l-1.37-1.37c-.4-.4-.92-.59-1.43-.59-.52 0-1.04.2-1.43.59L10.3 9.45l-7.72 7.72c-.78.78-.78 2.05 0 2.83L4 21.41c.39.39.9.59 1.41.59.51 0 1.02-.2 1.41-.59l7.78-7.78 2.81-2.81c.8-.78.8-2.07 0-2.86zM5.41 20L4 18.59l7.72-7.72 1.47 1.35L5.41 20z\"/>\n",
              "  </svg>\n",
              "      </button>\n",
              "      \n",
              "  <style>\n",
              "    .colab-df-container {\n",
              "      display:flex;\n",
              "      flex-wrap:wrap;\n",
              "      gap: 12px;\n",
              "    }\n",
              "\n",
              "    .colab-df-convert {\n",
              "      background-color: #E8F0FE;\n",
              "      border: none;\n",
              "      border-radius: 50%;\n",
              "      cursor: pointer;\n",
              "      display: none;\n",
              "      fill: #1967D2;\n",
              "      height: 32px;\n",
              "      padding: 0 0 0 0;\n",
              "      width: 32px;\n",
              "    }\n",
              "\n",
              "    .colab-df-convert:hover {\n",
              "      background-color: #E2EBFA;\n",
              "      box-shadow: 0px 1px 2px rgba(60, 64, 67, 0.3), 0px 1px 3px 1px rgba(60, 64, 67, 0.15);\n",
              "      fill: #174EA6;\n",
              "    }\n",
              "\n",
              "    [theme=dark] .colab-df-convert {\n",
              "      background-color: #3B4455;\n",
              "      fill: #D2E3FC;\n",
              "    }\n",
              "\n",
              "    [theme=dark] .colab-df-convert:hover {\n",
              "      background-color: #434B5C;\n",
              "      box-shadow: 0px 1px 3px 1px rgba(0, 0, 0, 0.15);\n",
              "      filter: drop-shadow(0px 1px 2px rgba(0, 0, 0, 0.3));\n",
              "      fill: #FFFFFF;\n",
              "    }\n",
              "  </style>\n",
              "\n",
              "      <script>\n",
              "        const buttonEl =\n",
              "          document.querySelector('#df-b84b4a5d-73a3-4845-9267-7844be281f16 button.colab-df-convert');\n",
              "        buttonEl.style.display =\n",
              "          google.colab.kernel.accessAllowed ? 'block' : 'none';\n",
              "\n",
              "        async function convertToInteractive(key) {\n",
              "          const element = document.querySelector('#df-b84b4a5d-73a3-4845-9267-7844be281f16');\n",
              "          const dataTable =\n",
              "            await google.colab.kernel.invokeFunction('convertToInteractive',\n",
              "                                                     [key], {});\n",
              "          if (!dataTable) return;\n",
              "\n",
              "          const docLinkHtml = 'Like what you see? Visit the ' +\n",
              "            '<a target=\"_blank\" href=https://colab.research.google.com/notebooks/data_table.ipynb>data table notebook</a>'\n",
              "            + ' to learn more about interactive tables.';\n",
              "          element.innerHTML = '';\n",
              "          dataTable['output_type'] = 'display_data';\n",
              "          await google.colab.output.renderOutput(dataTable, element);\n",
              "          const docLink = document.createElement('div');\n",
              "          docLink.innerHTML = docLinkHtml;\n",
              "          element.appendChild(docLink);\n",
              "        }\n",
              "      </script>\n",
              "    </div>\n",
              "  </div>\n",
              "  "
            ],
            "text/plain": [
              "            Passenger Travel  First Difference of Passenger data  \\\n",
              "Month                                                              \n",
              "1956-01-01             284.0                                 6.0   \n",
              "1956-02-01             277.0                                -7.0   \n",
              "1956-03-01             317.0                                40.0   \n",
              "1956-04-01             313.0                                -4.0   \n",
              "1956-05-01             318.0                                 5.0   \n",
              "1956-06-01             374.0                                56.0   \n",
              "1956-07-01             413.0                                39.0   \n",
              "1956-08-01             405.0                                -8.0   \n",
              "1956-09-01             355.0                               -50.0   \n",
              "1956-10-01             306.0                               -49.0   \n",
              "1956-11-01             271.0                               -35.0   \n",
              "1956-12-01             306.0                                35.0   \n",
              "1957-01-01             315.0                                 9.0   \n",
              "1957-02-01             301.0                               -14.0   \n",
              "1957-03-01             356.0                                55.0   \n",
              "1957-04-01             348.0                                -8.0   \n",
              "1957-05-01             355.0                                 7.0   \n",
              "1957-06-01             422.0                                67.0   \n",
              "1957-07-01             465.0                                43.0   \n",
              "1957-08-01             467.0                                 2.0   \n",
              "1957-09-01             404.0                               -63.0   \n",
              "1957-10-01             347.0                               -57.0   \n",
              "1957-11-01             305.0                               -42.0   \n",
              "1957-12-01             336.0                                31.0   \n",
              "1958-01-01             340.0                                 4.0   \n",
              "1958-02-01             318.0                               -22.0   \n",
              "1958-03-01             362.0                                44.0   \n",
              "1958-04-01             348.0                               -14.0   \n",
              "1958-05-01             363.0                                15.0   \n",
              "1958-06-01             435.0                                72.0   \n",
              "1958-07-01             491.0                                56.0   \n",
              "1958-08-01             505.0                                14.0   \n",
              "1958-09-01             404.0                              -101.0   \n",
              "1958-10-01             359.0                               -45.0   \n",
              "1958-11-01             310.0                               -49.0   \n",
              "1958-12-01             337.0                                27.0   \n",
              "1959-01-01             360.0                                23.0   \n",
              "1959-02-01             342.0                               -18.0   \n",
              "1959-03-01             406.0                                64.0   \n",
              "1959-04-01             396.0                               -10.0   \n",
              "1959-05-01             420.0                                24.0   \n",
              "1959-06-01             472.0                                52.0   \n",
              "1959-07-01             548.0                                76.0   \n",
              "1959-08-01             559.0                                11.0   \n",
              "1959-09-01             463.0                               -96.0   \n",
              "1959-10-01             407.0                               -56.0   \n",
              "1959-11-01             362.0                               -45.0   \n",
              "1959-12-01             405.0                                43.0   \n",
              "1960-01-01             417.0                                12.0   \n",
              "1960-02-01             391.0                               -26.0   \n",
              "1960-03-01             419.0                                28.0   \n",
              "1960-04-01             461.0                                42.0   \n",
              "1960-05-01             472.0                                11.0   \n",
              "1960-06-01             535.0                                63.0   \n",
              "1960-07-01             622.0                                87.0   \n",
              "1960-08-01             606.0                               -16.0   \n",
              "1960-09-01             508.0                               -98.0   \n",
              "1960-10-01             461.0                               -47.0   \n",
              "1960-11-01             390.0                               -71.0   \n",
              "1960-12-01             432.0                                42.0   \n",
              "\n",
              "            Second Difference of Passenger data  \\\n",
              "Month                                             \n",
              "1956-01-01                                -35.0   \n",
              "1956-02-01                                -13.0   \n",
              "1956-03-01                                 47.0   \n",
              "1956-04-01                                -44.0   \n",
              "1956-05-01                                  9.0   \n",
              "1956-06-01                                 51.0   \n",
              "1956-07-01                                -17.0   \n",
              "1956-08-01                                -47.0   \n",
              "1956-09-01                                -42.0   \n",
              "1956-10-01                                  1.0   \n",
              "1956-11-01                                 14.0   \n",
              "1956-12-01                                 70.0   \n",
              "1957-01-01                                -26.0   \n",
              "1957-02-01                                -23.0   \n",
              "1957-03-01                                 69.0   \n",
              "1957-04-01                                -63.0   \n",
              "1957-05-01                                 15.0   \n",
              "1957-06-01                                 60.0   \n",
              "1957-07-01                                -24.0   \n",
              "1957-08-01                                -41.0   \n",
              "1957-09-01                                -65.0   \n",
              "1957-10-01                                  6.0   \n",
              "1957-11-01                                 15.0   \n",
              "1957-12-01                                 73.0   \n",
              "1958-01-01                                -27.0   \n",
              "1958-02-01                                -26.0   \n",
              "1958-03-01                                 66.0   \n",
              "1958-04-01                                -58.0   \n",
              "1958-05-01                                 29.0   \n",
              "1958-06-01                                 57.0   \n",
              "1958-07-01                                -16.0   \n",
              "1958-08-01                                -42.0   \n",
              "1958-09-01                               -115.0   \n",
              "1958-10-01                                 56.0   \n",
              "1958-11-01                                 -4.0   \n",
              "1958-12-01                                 76.0   \n",
              "1959-01-01                                 -4.0   \n",
              "1959-02-01                                -41.0   \n",
              "1959-03-01                                 82.0   \n",
              "1959-04-01                                -74.0   \n",
              "1959-05-01                                 34.0   \n",
              "1959-06-01                                 28.0   \n",
              "1959-07-01                                 24.0   \n",
              "1959-08-01                                -65.0   \n",
              "1959-09-01                               -107.0   \n",
              "1959-10-01                                 40.0   \n",
              "1959-11-01                                 11.0   \n",
              "1959-12-01                                 88.0   \n",
              "1960-01-01                                -31.0   \n",
              "1960-02-01                                -38.0   \n",
              "1960-03-01                                 54.0   \n",
              "1960-04-01                                 14.0   \n",
              "1960-05-01                                -31.0   \n",
              "1960-06-01                                 52.0   \n",
              "1960-07-01                                 24.0   \n",
              "1960-08-01                               -103.0   \n",
              "1960-09-01                                -82.0   \n",
              "1960-10-01                                 51.0   \n",
              "1960-11-01                                -24.0   \n",
              "1960-12-01                                113.0   \n",
              "\n",
              "            12 Difference of Passenger data  \n",
              "Month                                        \n",
              "1956-01-01                             42.0  \n",
              "1956-02-01                             44.0  \n",
              "1956-03-01                             50.0  \n",
              "1956-04-01                             44.0  \n",
              "1956-05-01                             48.0  \n",
              "1956-06-01                             59.0  \n",
              "1956-07-01                             49.0  \n",
              "1956-08-01                             58.0  \n",
              "1956-09-01                             43.0  \n",
              "1956-10-01                             32.0  \n",
              "1956-11-01                             34.0  \n",
              "1956-12-01                             28.0  \n",
              "1957-01-01                             31.0  \n",
              "1957-02-01                             24.0  \n",
              "1957-03-01                             39.0  \n",
              "1957-04-01                             35.0  \n",
              "1957-05-01                             37.0  \n",
              "1957-06-01                             48.0  \n",
              "1957-07-01                             52.0  \n",
              "1957-08-01                             62.0  \n",
              "1957-09-01                             49.0  \n",
              "1957-10-01                             41.0  \n",
              "1957-11-01                             34.0  \n",
              "1957-12-01                             30.0  \n",
              "1958-01-01                             25.0  \n",
              "1958-02-01                             17.0  \n",
              "1958-03-01                              6.0  \n",
              "1958-04-01                              0.0  \n",
              "1958-05-01                              8.0  \n",
              "1958-06-01                             13.0  \n",
              "1958-07-01                             26.0  \n",
              "1958-08-01                             38.0  \n",
              "1958-09-01                              0.0  \n",
              "1958-10-01                             12.0  \n",
              "1958-11-01                              5.0  \n",
              "1958-12-01                              1.0  \n",
              "1959-01-01                             20.0  \n",
              "1959-02-01                             24.0  \n",
              "1959-03-01                             44.0  \n",
              "1959-04-01                             48.0  \n",
              "1959-05-01                             57.0  \n",
              "1959-06-01                             37.0  \n",
              "1959-07-01                             57.0  \n",
              "1959-08-01                             54.0  \n",
              "1959-09-01                             59.0  \n",
              "1959-10-01                             48.0  \n",
              "1959-11-01                             52.0  \n",
              "1959-12-01                             68.0  \n",
              "1960-01-01                             57.0  \n",
              "1960-02-01                             49.0  \n",
              "1960-03-01                             13.0  \n",
              "1960-04-01                             65.0  \n",
              "1960-05-01                             52.0  \n",
              "1960-06-01                             63.0  \n",
              "1960-07-01                             74.0  \n",
              "1960-08-01                             47.0  \n",
              "1960-09-01                             45.0  \n",
              "1960-10-01                             54.0  \n",
              "1960-11-01                             28.0  \n",
              "1960-12-01                             27.0  "
            ]
          },
          "metadata": {},
          "execution_count": 79
        }
      ]
    },
    {
      "cell_type": "code",
      "source": [
        "from statsmodels.tsa.arima_model import ARIMA"
      ],
      "metadata": {
        "id": "BuCHFfoXdRm_"
      },
      "execution_count": 80,
      "outputs": []
    },
    {
      "cell_type": "code",
      "source": [
        "train_data"
      ],
      "metadata": {
        "colab": {
          "base_uri": "https://localhost:8080/",
          "height": 455
        },
        "id": "1F4AJcxndRkm",
        "outputId": "6a0c945b-efe1-40b9-cfae-ab088200b108"
      },
      "execution_count": 81,
      "outputs": [
        {
          "output_type": "execute_result",
          "data": {
            "text/html": [
              "\n",
              "  <div id=\"df-69d1f41f-b63e-47f3-bd77-90e15d06cb0e\">\n",
              "    <div class=\"colab-df-container\">\n",
              "      <div>\n",
              "<style scoped>\n",
              "    .dataframe tbody tr th:only-of-type {\n",
              "        vertical-align: middle;\n",
              "    }\n",
              "\n",
              "    .dataframe tbody tr th {\n",
              "        vertical-align: top;\n",
              "    }\n",
              "\n",
              "    .dataframe thead th {\n",
              "        text-align: right;\n",
              "    }\n",
              "</style>\n",
              "<table border=\"1\" class=\"dataframe\">\n",
              "  <thead>\n",
              "    <tr style=\"text-align: right;\">\n",
              "      <th></th>\n",
              "      <th>Passenger Travel</th>\n",
              "      <th>First Difference of Passenger data</th>\n",
              "      <th>Second Difference of Passenger data</th>\n",
              "      <th>12 Difference of Passenger data</th>\n",
              "    </tr>\n",
              "    <tr>\n",
              "      <th>Month</th>\n",
              "      <th></th>\n",
              "      <th></th>\n",
              "      <th></th>\n",
              "      <th></th>\n",
              "    </tr>\n",
              "  </thead>\n",
              "  <tbody>\n",
              "    <tr>\n",
              "      <th>1949-01-01</th>\n",
              "      <td>112.0</td>\n",
              "      <td>NaN</td>\n",
              "      <td>NaN</td>\n",
              "      <td>NaN</td>\n",
              "    </tr>\n",
              "    <tr>\n",
              "      <th>1949-02-01</th>\n",
              "      <td>118.0</td>\n",
              "      <td>6.0</td>\n",
              "      <td>NaN</td>\n",
              "      <td>NaN</td>\n",
              "    </tr>\n",
              "    <tr>\n",
              "      <th>1949-03-01</th>\n",
              "      <td>132.0</td>\n",
              "      <td>14.0</td>\n",
              "      <td>8.0</td>\n",
              "      <td>NaN</td>\n",
              "    </tr>\n",
              "    <tr>\n",
              "      <th>1949-04-01</th>\n",
              "      <td>129.0</td>\n",
              "      <td>-3.0</td>\n",
              "      <td>-17.0</td>\n",
              "      <td>NaN</td>\n",
              "    </tr>\n",
              "    <tr>\n",
              "      <th>1949-05-01</th>\n",
              "      <td>121.0</td>\n",
              "      <td>-8.0</td>\n",
              "      <td>-5.0</td>\n",
              "      <td>NaN</td>\n",
              "    </tr>\n",
              "    <tr>\n",
              "      <th>...</th>\n",
              "      <td>...</td>\n",
              "      <td>...</td>\n",
              "      <td>...</td>\n",
              "      <td>...</td>\n",
              "    </tr>\n",
              "    <tr>\n",
              "      <th>1955-08-01</th>\n",
              "      <td>347.0</td>\n",
              "      <td>-17.0</td>\n",
              "      <td>-66.0</td>\n",
              "      <td>54.0</td>\n",
              "    </tr>\n",
              "    <tr>\n",
              "      <th>1955-09-01</th>\n",
              "      <td>312.0</td>\n",
              "      <td>-35.0</td>\n",
              "      <td>-18.0</td>\n",
              "      <td>53.0</td>\n",
              "    </tr>\n",
              "    <tr>\n",
              "      <th>1955-10-01</th>\n",
              "      <td>274.0</td>\n",
              "      <td>-38.0</td>\n",
              "      <td>-3.0</td>\n",
              "      <td>45.0</td>\n",
              "    </tr>\n",
              "    <tr>\n",
              "      <th>1955-11-01</th>\n",
              "      <td>237.0</td>\n",
              "      <td>-37.0</td>\n",
              "      <td>1.0</td>\n",
              "      <td>34.0</td>\n",
              "    </tr>\n",
              "    <tr>\n",
              "      <th>1955-12-01</th>\n",
              "      <td>278.0</td>\n",
              "      <td>41.0</td>\n",
              "      <td>78.0</td>\n",
              "      <td>49.0</td>\n",
              "    </tr>\n",
              "  </tbody>\n",
              "</table>\n",
              "<p>84 rows × 4 columns</p>\n",
              "</div>\n",
              "      <button class=\"colab-df-convert\" onclick=\"convertToInteractive('df-69d1f41f-b63e-47f3-bd77-90e15d06cb0e')\"\n",
              "              title=\"Convert this dataframe to an interactive table.\"\n",
              "              style=\"display:none;\">\n",
              "        \n",
              "  <svg xmlns=\"http://www.w3.org/2000/svg\" height=\"24px\"viewBox=\"0 0 24 24\"\n",
              "       width=\"24px\">\n",
              "    <path d=\"M0 0h24v24H0V0z\" fill=\"none\"/>\n",
              "    <path d=\"M18.56 5.44l.94 2.06.94-2.06 2.06-.94-2.06-.94-.94-2.06-.94 2.06-2.06.94zm-11 1L8.5 8.5l.94-2.06 2.06-.94-2.06-.94L8.5 2.5l-.94 2.06-2.06.94zm10 10l.94 2.06.94-2.06 2.06-.94-2.06-.94-.94-2.06-.94 2.06-2.06.94z\"/><path d=\"M17.41 7.96l-1.37-1.37c-.4-.4-.92-.59-1.43-.59-.52 0-1.04.2-1.43.59L10.3 9.45l-7.72 7.72c-.78.78-.78 2.05 0 2.83L4 21.41c.39.39.9.59 1.41.59.51 0 1.02-.2 1.41-.59l7.78-7.78 2.81-2.81c.8-.78.8-2.07 0-2.86zM5.41 20L4 18.59l7.72-7.72 1.47 1.35L5.41 20z\"/>\n",
              "  </svg>\n",
              "      </button>\n",
              "      \n",
              "  <style>\n",
              "    .colab-df-container {\n",
              "      display:flex;\n",
              "      flex-wrap:wrap;\n",
              "      gap: 12px;\n",
              "    }\n",
              "\n",
              "    .colab-df-convert {\n",
              "      background-color: #E8F0FE;\n",
              "      border: none;\n",
              "      border-radius: 50%;\n",
              "      cursor: pointer;\n",
              "      display: none;\n",
              "      fill: #1967D2;\n",
              "      height: 32px;\n",
              "      padding: 0 0 0 0;\n",
              "      width: 32px;\n",
              "    }\n",
              "\n",
              "    .colab-df-convert:hover {\n",
              "      background-color: #E2EBFA;\n",
              "      box-shadow: 0px 1px 2px rgba(60, 64, 67, 0.3), 0px 1px 3px 1px rgba(60, 64, 67, 0.15);\n",
              "      fill: #174EA6;\n",
              "    }\n",
              "\n",
              "    [theme=dark] .colab-df-convert {\n",
              "      background-color: #3B4455;\n",
              "      fill: #D2E3FC;\n",
              "    }\n",
              "\n",
              "    [theme=dark] .colab-df-convert:hover {\n",
              "      background-color: #434B5C;\n",
              "      box-shadow: 0px 1px 3px 1px rgba(0, 0, 0, 0.15);\n",
              "      filter: drop-shadow(0px 1px 2px rgba(0, 0, 0, 0.3));\n",
              "      fill: #FFFFFF;\n",
              "    }\n",
              "  </style>\n",
              "\n",
              "      <script>\n",
              "        const buttonEl =\n",
              "          document.querySelector('#df-69d1f41f-b63e-47f3-bd77-90e15d06cb0e button.colab-df-convert');\n",
              "        buttonEl.style.display =\n",
              "          google.colab.kernel.accessAllowed ? 'block' : 'none';\n",
              "\n",
              "        async function convertToInteractive(key) {\n",
              "          const element = document.querySelector('#df-69d1f41f-b63e-47f3-bd77-90e15d06cb0e');\n",
              "          const dataTable =\n",
              "            await google.colab.kernel.invokeFunction('convertToInteractive',\n",
              "                                                     [key], {});\n",
              "          if (!dataTable) return;\n",
              "\n",
              "          const docLinkHtml = 'Like what you see? Visit the ' +\n",
              "            '<a target=\"_blank\" href=https://colab.research.google.com/notebooks/data_table.ipynb>data table notebook</a>'\n",
              "            + ' to learn more about interactive tables.';\n",
              "          element.innerHTML = '';\n",
              "          dataTable['output_type'] = 'display_data';\n",
              "          await google.colab.output.renderOutput(dataTable, element);\n",
              "          const docLink = document.createElement('div');\n",
              "          docLink.innerHTML = docLinkHtml;\n",
              "          element.appendChild(docLink);\n",
              "        }\n",
              "      </script>\n",
              "    </div>\n",
              "  </div>\n",
              "  "
            ],
            "text/plain": [
              "            Passenger Travel  First Difference of Passenger data  \\\n",
              "Month                                                              \n",
              "1949-01-01             112.0                                 NaN   \n",
              "1949-02-01             118.0                                 6.0   \n",
              "1949-03-01             132.0                                14.0   \n",
              "1949-04-01             129.0                                -3.0   \n",
              "1949-05-01             121.0                                -8.0   \n",
              "...                      ...                                 ...   \n",
              "1955-08-01             347.0                               -17.0   \n",
              "1955-09-01             312.0                               -35.0   \n",
              "1955-10-01             274.0                               -38.0   \n",
              "1955-11-01             237.0                               -37.0   \n",
              "1955-12-01             278.0                                41.0   \n",
              "\n",
              "            Second Difference of Passenger data  \\\n",
              "Month                                             \n",
              "1949-01-01                                  NaN   \n",
              "1949-02-01                                  NaN   \n",
              "1949-03-01                                  8.0   \n",
              "1949-04-01                                -17.0   \n",
              "1949-05-01                                 -5.0   \n",
              "...                                         ...   \n",
              "1955-08-01                                -66.0   \n",
              "1955-09-01                                -18.0   \n",
              "1955-10-01                                 -3.0   \n",
              "1955-11-01                                  1.0   \n",
              "1955-12-01                                 78.0   \n",
              "\n",
              "            12 Difference of Passenger data  \n",
              "Month                                        \n",
              "1949-01-01                              NaN  \n",
              "1949-02-01                              NaN  \n",
              "1949-03-01                              NaN  \n",
              "1949-04-01                              NaN  \n",
              "1949-05-01                              NaN  \n",
              "...                                     ...  \n",
              "1955-08-01                             54.0  \n",
              "1955-09-01                             53.0  \n",
              "1955-10-01                             45.0  \n",
              "1955-11-01                             34.0  \n",
              "1955-12-01                             49.0  \n",
              "\n",
              "[84 rows x 4 columns]"
            ]
          },
          "metadata": {},
          "execution_count": 81
        }
      ]
    },
    {
      "cell_type": "code",
      "source": [
        "model_Arima = ARIMA(train_data['Passenger Travel'],order = (10,2,0))"
      ],
      "metadata": {
        "colab": {
          "base_uri": "https://localhost:8080/"
        },
        "id": "FhDilbuJdRiQ",
        "outputId": "52c10ca1-fd4a-404c-eee2-5ea4742671db"
      },
      "execution_count": 82,
      "outputs": [
        {
          "output_type": "stream",
          "name": "stderr",
          "text": [
            "/usr/local/lib/python3.7/dist-packages/statsmodels/tsa/base/tsa_model.py:165: ValueWarning: No frequency information was provided, so inferred frequency MS will be used.\n",
            "  % freq, ValueWarning)\n",
            "/usr/local/lib/python3.7/dist-packages/statsmodels/tsa/base/tsa_model.py:165: ValueWarning: No frequency information was provided, so inferred frequency MS will be used.\n",
            "  % freq, ValueWarning)\n"
          ]
        }
      ]
    },
    {
      "cell_type": "code",
      "source": [
        "model_Arima_fit = model_Arima.fit()"
      ],
      "metadata": {
        "id": "Bh0C6ksleGHx"
      },
      "execution_count": 83,
      "outputs": []
    },
    {
      "cell_type": "code",
      "source": [
        "model_Arima_fit.summary()"
      ],
      "metadata": {
        "colab": {
          "base_uri": "https://localhost:8080/",
          "height": 699
        },
        "id": "qKKNZi_beGEi",
        "outputId": "1b434d1a-1bec-4b7c-a30f-fac54ca691e2"
      },
      "execution_count": 84,
      "outputs": [
        {
          "output_type": "execute_result",
          "data": {
            "text/html": [
              "<table class=\"simpletable\">\n",
              "<caption>ARIMA Model Results</caption>\n",
              "<tr>\n",
              "  <th>Dep. Variable:</th> <td>D2.Passenger Travel</td> <th>  No. Observations:  </th>    <td>82</td>   \n",
              "</tr>\n",
              "<tr>\n",
              "  <th>Model:</th>           <td>ARIMA(10, 2, 0)</td>   <th>  Log Likelihood     </th> <td>-357.239</td>\n",
              "</tr>\n",
              "<tr>\n",
              "  <th>Method:</th>              <td>css-mle</td>       <th>  S.D. of innovations</th>  <td>18.333</td> \n",
              "</tr>\n",
              "<tr>\n",
              "  <th>Date:</th>           <td>Sun, 06 Mar 2022</td>   <th>  AIC                </th>  <td>738.477</td>\n",
              "</tr>\n",
              "<tr>\n",
              "  <th>Time:</th>               <td>12:53:14</td>       <th>  BIC                </th>  <td>767.358</td>\n",
              "</tr>\n",
              "<tr>\n",
              "  <th>Sample:</th>            <td>03-01-1949</td>      <th>  HQIC               </th>  <td>750.072</td>\n",
              "</tr>\n",
              "<tr>\n",
              "  <th></th>                  <td>- 12-01-1955</td>     <th>                     </th>     <td> </td>   \n",
              "</tr>\n",
              "</table>\n",
              "<table class=\"simpletable\">\n",
              "<tr>\n",
              "               <td></td>                 <th>coef</th>     <th>std err</th>      <th>z</th>      <th>P>|z|</th>  <th>[0.025</th>    <th>0.975]</th>  \n",
              "</tr>\n",
              "<tr>\n",
              "  <th>const</th>                      <td>    0.0164</td> <td>    0.347</td> <td>    0.047</td> <td> 0.963</td> <td>   -0.665</td> <td>    0.697</td>\n",
              "</tr>\n",
              "<tr>\n",
              "  <th>ar.L1.D2.Passenger Travel</th>  <td>   -0.5165</td> <td>    0.097</td> <td>   -5.300</td> <td> 0.000</td> <td>   -0.707</td> <td>   -0.325</td>\n",
              "</tr>\n",
              "<tr>\n",
              "  <th>ar.L2.D2.Passenger Travel</th>  <td>   -0.7203</td> <td>    0.108</td> <td>   -6.650</td> <td> 0.000</td> <td>   -0.933</td> <td>   -0.508</td>\n",
              "</tr>\n",
              "<tr>\n",
              "  <th>ar.L3.D2.Passenger Travel</th>  <td>   -0.4856</td> <td>    0.120</td> <td>   -4.032</td> <td> 0.000</td> <td>   -0.722</td> <td>   -0.250</td>\n",
              "</tr>\n",
              "<tr>\n",
              "  <th>ar.L4.D2.Passenger Travel</th>  <td>   -0.7506</td> <td>    0.131</td> <td>   -5.717</td> <td> 0.000</td> <td>   -1.008</td> <td>   -0.493</td>\n",
              "</tr>\n",
              "<tr>\n",
              "  <th>ar.L5.D2.Passenger Travel</th>  <td>   -0.5065</td> <td>    0.151</td> <td>   -3.360</td> <td> 0.001</td> <td>   -0.802</td> <td>   -0.211</td>\n",
              "</tr>\n",
              "<tr>\n",
              "  <th>ar.L6.D2.Passenger Travel</th>  <td>   -0.5204</td> <td>    0.149</td> <td>   -3.500</td> <td> 0.001</td> <td>   -0.812</td> <td>   -0.229</td>\n",
              "</tr>\n",
              "<tr>\n",
              "  <th>ar.L7.D2.Passenger Travel</th>  <td>   -0.3055</td> <td>    0.136</td> <td>   -2.250</td> <td> 0.028</td> <td>   -0.572</td> <td>   -0.039</td>\n",
              "</tr>\n",
              "<tr>\n",
              "  <th>ar.L8.D2.Passenger Travel</th>  <td>   -0.5943</td> <td>    0.125</td> <td>   -4.744</td> <td> 0.000</td> <td>   -0.840</td> <td>   -0.349</td>\n",
              "</tr>\n",
              "<tr>\n",
              "  <th>ar.L9.D2.Passenger Travel</th>  <td>   -0.2966</td> <td>    0.116</td> <td>   -2.556</td> <td> 0.013</td> <td>   -0.524</td> <td>   -0.069</td>\n",
              "</tr>\n",
              "<tr>\n",
              "  <th>ar.L10.D2.Passenger Travel</th> <td>   -0.4826</td> <td>    0.101</td> <td>   -4.765</td> <td> 0.000</td> <td>   -0.681</td> <td>   -0.284</td>\n",
              "</tr>\n",
              "</table>\n",
              "<table class=\"simpletable\">\n",
              "<caption>Roots</caption>\n",
              "<tr>\n",
              "    <td></td>    <th>            Real</th>  <th>         Imaginary</th> <th>         Modulus</th>  <th>        Frequency</th>\n",
              "</tr>\n",
              "<tr>\n",
              "  <th>AR.1</th>  <td>           0.9098</td> <td>          -0.5670j</td> <td>           1.0720</td> <td>          -0.0887</td>\n",
              "</tr>\n",
              "<tr>\n",
              "  <th>AR.2</th>  <td>           0.9098</td> <td>          +0.5670j</td> <td>           1.0720</td> <td>           0.0887</td>\n",
              "</tr>\n",
              "<tr>\n",
              "  <th>AR.3</th>  <td>           0.4844</td> <td>          -0.9210j</td> <td>           1.0406</td> <td>          -0.1729</td>\n",
              "</tr>\n",
              "<tr>\n",
              "  <th>AR.4</th>  <td>           0.4844</td> <td>          +0.9210j</td> <td>           1.0406</td> <td>           0.1729</td>\n",
              "</tr>\n",
              "<tr>\n",
              "  <th>AR.5</th>  <td>          -0.9676</td> <td>          -0.4146j</td> <td>           1.0527</td> <td>          -0.4356</td>\n",
              "</tr>\n",
              "<tr>\n",
              "  <th>AR.6</th>  <td>          -0.9676</td> <td>          +0.4146j</td> <td>           1.0527</td> <td>           0.4356</td>\n",
              "</tr>\n",
              "<tr>\n",
              "  <th>AR.7</th>  <td>          -0.6004</td> <td>          -0.8889j</td> <td>           1.0726</td> <td>          -0.3445</td>\n",
              "</tr>\n",
              "<tr>\n",
              "  <th>AR.8</th>  <td>          -0.6004</td> <td>          +0.8889j</td> <td>           1.0726</td> <td>           0.3445</td>\n",
              "</tr>\n",
              "<tr>\n",
              "  <th>AR.9</th>  <td>          -0.1335</td> <td>          -1.1349j</td> <td>           1.1427</td> <td>          -0.2686</td>\n",
              "</tr>\n",
              "<tr>\n",
              "  <th>AR.10</th> <td>          -0.1335</td> <td>          +1.1349j</td> <td>           1.1427</td> <td>           0.2686</td>\n",
              "</tr>\n",
              "</table>"
            ],
            "text/plain": [
              "<class 'statsmodels.iolib.summary.Summary'>\n",
              "\"\"\"\n",
              "                              ARIMA Model Results                              \n",
              "===============================================================================\n",
              "Dep. Variable:     D2.Passenger Travel   No. Observations:                   82\n",
              "Model:                 ARIMA(10, 2, 0)   Log Likelihood                -357.239\n",
              "Method:                        css-mle   S.D. of innovations             18.333\n",
              "Date:                 Sun, 06 Mar 2022   AIC                            738.477\n",
              "Time:                         12:53:14   BIC                            767.358\n",
              "Sample:                     03-01-1949   HQIC                           750.072\n",
              "                          - 12-01-1955                                         \n",
              "==============================================================================================\n",
              "                                 coef    std err          z      P>|z|      [0.025      0.975]\n",
              "----------------------------------------------------------------------------------------------\n",
              "const                          0.0164      0.347      0.047      0.963      -0.665       0.697\n",
              "ar.L1.D2.Passenger Travel     -0.5165      0.097     -5.300      0.000      -0.707      -0.325\n",
              "ar.L2.D2.Passenger Travel     -0.7203      0.108     -6.650      0.000      -0.933      -0.508\n",
              "ar.L3.D2.Passenger Travel     -0.4856      0.120     -4.032      0.000      -0.722      -0.250\n",
              "ar.L4.D2.Passenger Travel     -0.7506      0.131     -5.717      0.000      -1.008      -0.493\n",
              "ar.L5.D2.Passenger Travel     -0.5065      0.151     -3.360      0.001      -0.802      -0.211\n",
              "ar.L6.D2.Passenger Travel     -0.5204      0.149     -3.500      0.001      -0.812      -0.229\n",
              "ar.L7.D2.Passenger Travel     -0.3055      0.136     -2.250      0.028      -0.572      -0.039\n",
              "ar.L8.D2.Passenger Travel     -0.5943      0.125     -4.744      0.000      -0.840      -0.349\n",
              "ar.L9.D2.Passenger Travel     -0.2966      0.116     -2.556      0.013      -0.524      -0.069\n",
              "ar.L10.D2.Passenger Travel    -0.4826      0.101     -4.765      0.000      -0.681      -0.284\n",
              "                                    Roots                                     \n",
              "==============================================================================\n",
              "                   Real          Imaginary           Modulus         Frequency\n",
              "------------------------------------------------------------------------------\n",
              "AR.1             0.9098           -0.5670j            1.0720           -0.0887\n",
              "AR.2             0.9098           +0.5670j            1.0720            0.0887\n",
              "AR.3             0.4844           -0.9210j            1.0406           -0.1729\n",
              "AR.4             0.4844           +0.9210j            1.0406            0.1729\n",
              "AR.5            -0.9676           -0.4146j            1.0527           -0.4356\n",
              "AR.6            -0.9676           +0.4146j            1.0527            0.4356\n",
              "AR.7            -0.6004           -0.8889j            1.0726           -0.3445\n",
              "AR.8            -0.6004           +0.8889j            1.0726            0.3445\n",
              "AR.9            -0.1335           -1.1349j            1.1427           -0.2686\n",
              "AR.10           -0.1335           +1.1349j            1.1427            0.2686\n",
              "------------------------------------------------------------------------------\n",
              "\"\"\""
            ]
          },
          "metadata": {},
          "execution_count": 84
        }
      ]
    },
    {
      "cell_type": "code",
      "source": [
        "pred_start_date = test_data.index[0]\n",
        "pred_end_date = test_data.index[-1]\n",
        "print(pred_start_date)\n",
        "print(pred_end_date)"
      ],
      "metadata": {
        "colab": {
          "base_uri": "https://localhost:8080/"
        },
        "id": "L1EDcc9AeGCc",
        "outputId": "acdb7ad2-3926-4588-8b70-b0c40406e59f"
      },
      "execution_count": 85,
      "outputs": [
        {
          "output_type": "stream",
          "name": "stdout",
          "text": [
            "1956-01-01 00:00:00\n",
            "1960-12-01 00:00:00\n"
          ]
        }
      ]
    },
    {
      "cell_type": "code",
      "source": [
        "prediction = model_Arima_fit.predict(start=pred_start_date,end=pred_end_date)\n",
        "residuals = test_data['Passenger Travel']-prediction"
      ],
      "metadata": {
        "id": "54x0DpsCeGAJ"
      },
      "execution_count": 86,
      "outputs": []
    },
    {
      "cell_type": "code",
      "source": [
        "residuals"
      ],
      "metadata": {
        "colab": {
          "base_uri": "https://localhost:8080/"
        },
        "id": "ms9oZKmveF91",
        "outputId": "821ac2eb-c670-4154-b24b-409d4222fc26"
      },
      "execution_count": 87,
      "outputs": [
        {
          "output_type": "execute_result",
          "data": {
            "text/plain": [
              "Month\n",
              "1956-01-01    302.695967\n",
              "1956-02-01    289.830798\n",
              "1956-03-01    319.329689\n",
              "1956-04-01    328.562167\n",
              "1956-05-01    298.689299\n",
              "1956-06-01    354.352092\n",
              "1956-07-01    426.271448\n",
              "1956-08-01    441.529637\n",
              "1956-09-01    350.001331\n",
              "1956-10-01    315.913211\n",
              "1956-11-01    242.711490\n",
              "1956-12-01    281.647799\n",
              "1957-01-01    333.119982\n",
              "1957-02-01    304.741472\n",
              "1957-03-01    367.652396\n",
              "1957-04-01    343.198134\n",
              "1957-05-01    343.325743\n",
              "1957-06-01    413.019343\n",
              "1957-07-01    483.932094\n",
              "1957-08-01    477.557323\n",
              "1957-09-01    403.265261\n",
              "1957-10-01    346.226367\n",
              "1957-11-01    281.802339\n",
              "1957-12-01    337.112089\n",
              "1958-01-01    347.244804\n",
              "1958-02-01    325.413868\n",
              "1958-03-01    364.318085\n",
              "1958-04-01    341.830094\n",
              "1958-05-01    355.290668\n",
              "1958-06-01    435.056472\n",
              "1958-07-01    504.184605\n",
              "1958-08-01    505.771336\n",
              "1958-09-01    405.976038\n",
              "1958-10-01    350.193216\n",
              "1958-11-01    301.548556\n",
              "1958-12-01    341.117865\n",
              "1959-01-01    364.677804\n",
              "1959-02-01    347.031477\n",
              "1959-03-01    403.339716\n",
              "1959-04-01    392.149753\n",
              "1959-05-01    415.086071\n",
              "1959-06-01    477.071069\n",
              "1959-07-01    553.126392\n",
              "1959-08-01    559.484649\n",
              "1959-09-01    462.056163\n",
              "1959-10-01    399.681976\n",
              "1959-11-01    361.271121\n",
              "1959-12-01    407.556232\n",
              "1960-01-01    421.249824\n",
              "1960-02-01    391.671049\n",
              "1960-03-01    416.667432\n",
              "1960-04-01    457.847576\n",
              "1960-05-01    470.955135\n",
              "1960-06-01    539.473435\n",
              "1960-07-01    623.349809\n",
              "1960-08-01    606.615667\n",
              "1960-09-01    504.893946\n",
              "1960-10-01    458.035862\n",
              "1960-11-01    390.732260\n",
              "1960-12-01    434.251375\n",
              "dtype: float64"
            ]
          },
          "metadata": {},
          "execution_count": 87
        }
      ]
    },
    {
      "cell_type": "code",
      "source": [
        "model_Arima_fit.resid.plot(kind = 'kde')"
      ],
      "metadata": {
        "colab": {
          "base_uri": "https://localhost:8080/",
          "height": 286
        },
        "id": "im-XtTEneF7X",
        "outputId": "66736c5f-a019-43ea-faa2-d7633e8c9a75"
      },
      "execution_count": 88,
      "outputs": [
        {
          "output_type": "execute_result",
          "data": {
            "text/plain": [
              "<matplotlib.axes._subplots.AxesSubplot at 0x7fa0c609f790>"
            ]
          },
          "metadata": {},
          "execution_count": 88
        },
        {
          "output_type": "display_data",
          "data": {
            "image/png": "[encoded data removed]",
            "text/plain": [
              "<Figure size 432x288 with 1 Axes>"
            ]
          },
          "metadata": {
            "needs_background": "light"
          }
        }
      ]
    },
    {
      "cell_type": "code",
      "source": [
        "test_data['Prediction_Arima_new'] = prediction"
      ],
      "metadata": {
        "colab": {
          "base_uri": "https://localhost:8080/"
        },
        "id": "kldhEW3leF4l",
        "outputId": "cfbfa6e7-f212-4d7e-ed31-bbd81a131420"
      },
      "execution_count": 89,
      "outputs": [
        {
          "output_type": "stream",
          "name": "stderr",
          "text": [
            "/usr/local/lib/python3.7/dist-packages/ipykernel_launcher.py:1: SettingWithCopyWarning: \n",
            "A value is trying to be set on a copy of a slice from a DataFrame.\n",
            "Try using .loc[row_indexer,col_indexer] = value instead\n",
            "\n",
            "See the caveats in the documentation: https://pandas.pydata.org/pandas-docs/stable/user_guide/indexing.html#returning-a-view-versus-a-copy\n",
            "  \"\"\"Entry point for launching an IPython kernel.\n"
          ]
        }
      ]
    },
    {
      "cell_type": "code",
      "source": [
        "test_data[['Passenger Travel','Prediction_Arima_new']].plot()"
      ],
      "metadata": {
        "colab": {
          "base_uri": "https://localhost:8080/",
          "height": 296
        },
        "id": "SjSL8XtIhDT2",
        "outputId": "176cc4ec-85de-471a-dce7-a94caf652abb"
      },
      "execution_count": 90,
      "outputs": [
        {
          "output_type": "execute_result",
          "data": {
            "text/plain": [
              "<matplotlib.axes._subplots.AxesSubplot at 0x7fa0c609f450>"
            ]
          },
          "metadata": {},
          "execution_count": 90
        },
        {
          "output_type": "display_data",
          "data": {
            "image/png": "[encoded data removed]",
            "text/plain": [
              "<Figure size 432x288 with 1 Axes>"
            ]
          },
          "metadata": {
            "needs_background": "light"
          }
        }
      ]
    },
    {
      "cell_type": "code",
      "source": [
        "acf12 = plot_acf(df[\"12 Difference of Passenger data\"].dropna())\n",
        "pacf12 = plot_pacf(df[\"12 Difference of Passenger data\"].dropna())"
      ],
      "metadata": {
        "id": "HJuwkF27hDQP",
        "colab": {
          "base_uri": "https://localhost:8080/",
          "height": 545
        },
        "outputId": "03701bed-d41e-4b9a-9eed-c08c730a745e"
      },
      "execution_count": 93,
      "outputs": [
        {
          "output_type": "display_data",
          "data": {
            "image/png": "[encoded data removed]",
            "text/plain": [
              "<Figure size 432x288 with 1 Axes>"
            ]
          },
          "metadata": {
            "needs_background": "light"
          }
        },
        {
          "output_type": "display_data",
          "data": {
            "image/png": "[encoded data removed]",
            "text/plain": [
              "<Figure size 432x288 with 1 Axes>"
            ]
          },
          "metadata": {
            "needs_background": "light"
          }
        }
      ]
    },
    {
      "cell_type": "markdown",
      "source": [
        "# Sarimax Model"
      ],
      "metadata": {
        "id": "T86sPyioTCrZ"
      }
    },
    {
      "cell_type": "code",
      "source": [
        "model_SARIMA=SARIMAX(train_data['Passenger Travel'],order=(3,0,5),seasonal_order=(0,1,0,12))"
      ],
      "metadata": {
        "colab": {
          "base_uri": "https://localhost:8080/"
        },
        "id": "zDbs29BxTCh8",
        "outputId": "4ab13be8-0eff-48df-aeb0-712ce1430f69"
      },
      "execution_count": 100,
      "outputs": [
        {
          "output_type": "stream",
          "name": "stderr",
          "text": [
            "/usr/local/lib/python3.7/dist-packages/statsmodels/tsa/base/tsa_model.py:165: ValueWarning: No frequency information was provided, so inferred frequency MS will be used.\n",
            "  % freq, ValueWarning)\n"
          ]
        }
      ]
    },
    {
      "cell_type": "code",
      "source": [
        "model_SARIMA_fit=model_SARIMA.fit()"
      ],
      "metadata": {
        "id": "hIxB9z6vhDOs",
        "colab": {
          "base_uri": "https://localhost:8080/"
        },
        "outputId": "4c158097-1231-47a4-e1ec-f68ed470b972"
      },
      "execution_count": 101,
      "outputs": [
        {
          "output_type": "stream",
          "name": "stderr",
          "text": [
            "/usr/local/lib/python3.7/dist-packages/statsmodels/base/model.py:512: ConvergenceWarning: Maximum Likelihood optimization failed to converge. Check mle_retvals\n",
            "  \"Check mle_retvals\", ConvergenceWarning)\n"
          ]
        }
      ]
    },
    {
      "cell_type": "code",
      "source": [
        "model_SARIMA_fit.summary()"
      ],
      "metadata": {
        "id": "0uydcMWPhDMB",
        "colab": {
          "base_uri": "https://localhost:8080/",
          "height": 558
        },
        "outputId": "59502092-4a3e-4a7e-8831-2af1884f586e"
      },
      "execution_count": 102,
      "outputs": [
        {
          "output_type": "execute_result",
          "data": {
            "text/html": [
              "<table class=\"simpletable\">\n",
              "<caption>Statespace Model Results</caption>\n",
              "<tr>\n",
              "  <th>Dep. Variable:</th>          <td>Passenger Travel</td>        <th>  No. Observations:  </th>    <td>84</td>   \n",
              "</tr>\n",
              "<tr>\n",
              "  <th>Model:</th>           <td>SARIMAX(3, 0, 5)x(0, 1, 0, 12)</td> <th>  Log Likelihood     </th> <td>-265.240</td>\n",
              "</tr>\n",
              "<tr>\n",
              "  <th>Date:</th>                   <td>Sun, 06 Mar 2022</td>        <th>  AIC                </th>  <td>548.481</td>\n",
              "</tr>\n",
              "<tr>\n",
              "  <th>Time:</th>                       <td>12:56:55</td>            <th>  BIC                </th>  <td>568.971</td>\n",
              "</tr>\n",
              "<tr>\n",
              "  <th>Sample:</th>                    <td>01-01-1949</td>           <th>  HQIC               </th>  <td>556.638</td>\n",
              "</tr>\n",
              "<tr>\n",
              "  <th></th>                          <td>- 12-01-1955</td>          <th>                     </th>     <td> </td>   \n",
              "</tr>\n",
              "<tr>\n",
              "  <th>Covariance Type:</th>               <td>opg</td>              <th>                     </th>     <td> </td>   \n",
              "</tr>\n",
              "</table>\n",
              "<table class=\"simpletable\">\n",
              "<tr>\n",
              "     <td></td>       <th>coef</th>     <th>std err</th>      <th>z</th>      <th>P>|z|</th>  <th>[0.025</th>    <th>0.975]</th>  \n",
              "</tr>\n",
              "<tr>\n",
              "  <th>ar.L1</th>  <td>    0.5977</td> <td>    0.938</td> <td>    0.638</td> <td> 0.524</td> <td>   -1.240</td> <td>    2.435</td>\n",
              "</tr>\n",
              "<tr>\n",
              "  <th>ar.L2</th>  <td>    0.8311</td> <td>    0.232</td> <td>    3.583</td> <td> 0.000</td> <td>    0.376</td> <td>    1.286</td>\n",
              "</tr>\n",
              "<tr>\n",
              "  <th>ar.L3</th>  <td>   -0.4519</td> <td>    0.894</td> <td>   -0.506</td> <td> 0.613</td> <td>   -2.203</td> <td>    1.300</td>\n",
              "</tr>\n",
              "<tr>\n",
              "  <th>ma.L1</th>  <td>    0.1844</td> <td>    1.164</td> <td>    0.158</td> <td> 0.874</td> <td>   -2.098</td> <td>    2.466</td>\n",
              "</tr>\n",
              "<tr>\n",
              "  <th>ma.L2</th>  <td>   -0.5336</td> <td>    1.262</td> <td>   -0.423</td> <td> 0.672</td> <td>   -3.007</td> <td>    1.940</td>\n",
              "</tr>\n",
              "<tr>\n",
              "  <th>ma.L3</th>  <td>   -0.0987</td> <td>    0.384</td> <td>   -0.257</td> <td> 0.797</td> <td>   -0.852</td> <td>    0.654</td>\n",
              "</tr>\n",
              "<tr>\n",
              "  <th>ma.L4</th>  <td>   -0.1274</td> <td>    0.338</td> <td>   -0.377</td> <td> 0.706</td> <td>   -0.789</td> <td>    0.534</td>\n",
              "</tr>\n",
              "<tr>\n",
              "  <th>ma.L5</th>  <td>    0.2470</td> <td>    0.357</td> <td>    0.692</td> <td> 0.489</td> <td>   -0.452</td> <td>    0.946</td>\n",
              "</tr>\n",
              "<tr>\n",
              "  <th>sigma2</th> <td>   87.7355</td> <td>   81.196</td> <td>    1.081</td> <td> 0.280</td> <td>  -71.406</td> <td>  246.877</td>\n",
              "</tr>\n",
              "</table>\n",
              "<table class=\"simpletable\">\n",
              "<tr>\n",
              "  <th>Ljung-Box (Q):</th>          <td>27.22</td> <th>  Jarque-Bera (JB):  </th> <td>2.68</td>\n",
              "</tr>\n",
              "<tr>\n",
              "  <th>Prob(Q):</th>                <td>0.94</td>  <th>  Prob(JB):          </th> <td>0.26</td>\n",
              "</tr>\n",
              "<tr>\n",
              "  <th>Heteroskedasticity (H):</th> <td>2.05</td>  <th>  Skew:              </th> <td>0.46</td>\n",
              "</tr>\n",
              "<tr>\n",
              "  <th>Prob(H) (two-sided):</th>    <td>0.09</td>  <th>  Kurtosis:          </th> <td>2.77</td>\n",
              "</tr>\n",
              "</table><br/><br/>Warnings:<br/>[1] Covariance matrix calculated using the outer product of gradients (complex-step)."
            ],
            "text/plain": [
              "<class 'statsmodels.iolib.summary.Summary'>\n",
              "\"\"\"\n",
              "                                 Statespace Model Results                                 \n",
              "==========================================================================================\n",
              "Dep. Variable:                   Passenger Travel   No. Observations:                   84\n",
              "Model:             SARIMAX(3, 0, 5)x(0, 1, 0, 12)   Log Likelihood                -265.240\n",
              "Date:                            Sun, 06 Mar 2022   AIC                            548.481\n",
              "Time:                                    12:56:55   BIC                            568.971\n",
              "Sample:                                01-01-1949   HQIC                           556.638\n",
              "                                     - 12-01-1955                                         \n",
              "Covariance Type:                              opg                                         \n",
              "==============================================================================\n",
              "                 coef    std err          z      P>|z|      [0.025      0.975]\n",
              "------------------------------------------------------------------------------\n",
              "ar.L1          0.5977      0.938      0.638      0.524      -1.240       2.435\n",
              "ar.L2          0.8311      0.232      3.583      0.000       0.376       1.286\n",
              "ar.L3         -0.4519      0.894     -0.506      0.613      -2.203       1.300\n",
              "ma.L1          0.1844      1.164      0.158      0.874      -2.098       2.466\n",
              "ma.L2         -0.5336      1.262     -0.423      0.672      -3.007       1.940\n",
              "ma.L3         -0.0987      0.384     -0.257      0.797      -0.852       0.654\n",
              "ma.L4         -0.1274      0.338     -0.377      0.706      -0.789       0.534\n",
              "ma.L5          0.2470      0.357      0.692      0.489      -0.452       0.946\n",
              "sigma2        87.7355     81.196      1.081      0.280     -71.406     246.877\n",
              "===================================================================================\n",
              "Ljung-Box (Q):                       27.22   Jarque-Bera (JB):                 2.68\n",
              "Prob(Q):                              0.94   Prob(JB):                         0.26\n",
              "Heteroskedasticity (H):               2.05   Skew:                             0.46\n",
              "Prob(H) (two-sided):                  0.09   Kurtosis:                         2.77\n",
              "===================================================================================\n",
              "\n",
              "Warnings:\n",
              "[1] Covariance matrix calculated using the outer product of gradients (complex-step).\n",
              "\"\"\""
            ]
          },
          "metadata": {},
          "execution_count": 102
        }
      ]
    },
    {
      "cell_type": "code",
      "source": [
        "##prediction\n",
        "pred_start_date=test_data.index[0]\n",
        "pred_end_date=test_data.index[-1]\n",
        "print(pred_start_date)\n",
        "print(pred_end_date)"
      ],
      "metadata": {
        "colab": {
          "base_uri": "https://localhost:8080/"
        },
        "id": "5F-KpxtwTmw_",
        "outputId": "12c830ef-d415-41bb-b3b1-b495efc83511"
      },
      "execution_count": 103,
      "outputs": [
        {
          "output_type": "stream",
          "name": "stdout",
          "text": [
            "1956-01-01 00:00:00\n",
            "1960-12-01 00:00:00\n"
          ]
        }
      ]
    },
    {
      "cell_type": "code",
      "source": [
        "test_data"
      ],
      "metadata": {
        "id": "hpNWU0TSUCIg"
      },
      "execution_count": null,
      "outputs": []
    },
    {
      "cell_type": "code",
      "source": [
        "pred_Sarima=model_SARIMA_fit.predict(start=pred_start_date,end=pred_end_date)\n",
        "residuals=test_data['Passenger Travel']-pred_Sarima"
      ],
      "metadata": {
        "id": "p5fY4ATITmuS"
      },
      "execution_count": 108,
      "outputs": []
    },
    {
      "cell_type": "code",
      "source": [
        "model_SARIMA_fit.resid.plot()"
      ],
      "metadata": {
        "colab": {
          "base_uri": "https://localhost:8080/",
          "height": 296
        },
        "id": "a57ehCywTmr-",
        "outputId": "e79f0357-cebd-4a94-bf68-f87714f01ddb"
      },
      "execution_count": 109,
      "outputs": [
        {
          "output_type": "execute_result",
          "data": {
            "text/plain": [
              "<matplotlib.axes._subplots.AxesSubplot at 0x7fa0bea90510>"
            ]
          },
          "metadata": {},
          "execution_count": 109
        },
        {
          "output_type": "display_data",
          "data": {
            "image/png": "[encoded data removed]",
            "text/plain": [
              "<Figure size 432x288 with 1 Axes>"
            ]
          },
          "metadata": {
            "needs_background": "light"
          }
        }
      ]
    },
    {
      "cell_type": "code",
      "source": [
        "model_SARIMA_fit.resid.plot(kind='kde')"
      ],
      "metadata": {
        "colab": {
          "base_uri": "https://localhost:8080/",
          "height": 282
        },
        "id": "eG04F59TTmpo",
        "outputId": "2846ba26-11a9-4e57-ae99-67d1bc1b8534"
      },
      "execution_count": 110,
      "outputs": [
        {
          "output_type": "execute_result",
          "data": {
            "text/plain": [
              "<matplotlib.axes._subplots.AxesSubplot at 0x7fa0be9f1410>"
            ]
          },
          "metadata": {},
          "execution_count": 110
        },
        {
          "output_type": "display_data",
          "data": {
            "image/png": "[encoded data removed]",
            "text/plain": [
              "<Figure size 432x288 with 1 Axes>"
            ]
          },
          "metadata": {
            "needs_background": "light"
          }
        }
      ]
    },
    {
      "cell_type": "code",
      "source": [
        "test_data['Predicted_SARIMA']=pred_Sarima"
      ],
      "metadata": {
        "colab": {
          "base_uri": "https://localhost:8080/"
        },
        "id": "p9Gj2kWGTmnV",
        "outputId": "68817b69-9463-44f4-f689-26c48d4305be"
      },
      "execution_count": 111,
      "outputs": [
        {
          "output_type": "stream",
          "name": "stderr",
          "text": [
            "/usr/local/lib/python3.7/dist-packages/ipykernel_launcher.py:1: SettingWithCopyWarning: \n",
            "A value is trying to be set on a copy of a slice from a DataFrame.\n",
            "Try using .loc[row_indexer,col_indexer] = value instead\n",
            "\n",
            "See the caveats in the documentation: https://pandas.pydata.org/pandas-docs/stable/user_guide/indexing.html#returning-a-view-versus-a-copy\n",
            "  \"\"\"Entry point for launching an IPython kernel.\n"
          ]
        }
      ]
    },
    {
      "cell_type": "code",
      "source": [
        "test_data[['Passenger Travel','Predicted_SARIMA','Prediction_Arima_new']].plot()"
      ],
      "metadata": {
        "colab": {
          "base_uri": "https://localhost:8080/",
          "height": 296
        },
        "id": "8gwtTmOrTmlQ",
        "outputId": "874b1b8d-c376-4cbb-97eb-bcfcd2b698ab"
      },
      "execution_count": 113,
      "outputs": [
        {
          "output_type": "execute_result",
          "data": {
            "text/plain": [
              "<matplotlib.axes._subplots.AxesSubplot at 0x7fa0be9792d0>"
            ]
          },
          "metadata": {},
          "execution_count": 113
        },
        {
          "output_type": "display_data",
          "data": {
            "image/png": "[encoded data removed]",
            "text/plain": [
              "<Figure size 432x288 with 1 Axes>"
            ]
          },
          "metadata": {
            "needs_background": "light"
          }
        }
      ]
    },
    {
      "cell_type": "code",
      "source": [
        ""
      ],
      "metadata": {
        "id": "_m1cxRY9Tmik"
      },
      "execution_count": null,
      "outputs": []
    }
  ],
  "metadata": {
    "colab": {
      "name": "Time series_practice.ipynb",
      "provenance": [],
      "collapsed_sections": [],
      "authorship_tag": "ABX9TyMe1z4w/hes9HJGcucXEXpB"
    },
    "kernelspec": {
      "display_name": "Python 3",
      "name": "python3"
    },
    "language_info": {
      "name": "python"
    }
  },
  "nbformat": 4,
  "nbformat_minor": 0
}